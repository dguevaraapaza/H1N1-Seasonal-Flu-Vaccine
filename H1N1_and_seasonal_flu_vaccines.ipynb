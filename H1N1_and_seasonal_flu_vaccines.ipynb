{
  "metadata": {
    "kernelspec": {
      "language": "python",
      "display_name": "Python 3",
      "name": "python3"
    },
    "language_info": {
      "name": "python",
      "version": "3.10.13",
      "mimetype": "text/x-python",
      "codemirror_mode": {
        "name": "ipython",
        "version": 3
      },
      "pygments_lexer": "ipython3",
      "nbconvert_exporter": "python",
      "file_extension": ".py"
    },
    "kaggle": {
      "accelerator": "none",
      "dataSources": [
        {
          "sourceId": 1689913,
          "sourceType": "datasetVersion",
          "datasetId": 955872
        }
      ],
      "dockerImageVersionId": 30698,
      "isInternetEnabled": true,
      "language": "python",
      "sourceType": "notebook",
      "isGpuEnabled": false
    },
    "colab": {
      "provenance": [],
      "include_colab_link": true
    }
  },
  "nbformat_minor": 0,
  "nbformat": 4,
  "cells": [
    {
      "cell_type": "markdown",
      "metadata": {
        "id": "view-in-github",
        "colab_type": "text"
      },
      "source": [
        "<a href=\"https://colab.research.google.com/github/dguevaraapaza/H1N1-Seasonal-Flu-Vaccine/blob/main/H1N1_and_seasonal_flu_vaccines.ipynb\" target=\"_parent\"><img src=\"https://colab.research.google.com/assets/colab-badge.svg\" alt=\"Open In Colab\"/></a>"
      ]
    },
    {
      "cell_type": "markdown",
      "source": [
        "# Vaccination Prediction\n",
        "\n",
        "\n",
        "> **Goal:** Predict how likely individuals are to receive their H1N1 and seasonal flu vaccines. In specific, the target is to predict two probabilities: one for h1n1_vaccine and one for seasonal_vaccine.\n",
        "\n",
        "**This is a multi-label classification problem.**"
      ],
      "metadata": {
        "id": "5X6SmTyL1vbU"
      }
    },
    {
      "cell_type": "code",
      "source": [
        "## Installing the required packages\n",
        "# !pip install scikit-multilearn\n",
        "\n",
        "# Libraries for Problem Transformation\n",
        "# from skmultilearn.problem_transform import BinaryRelevance\n",
        "# from skmultilearn.problem_transform import ClassifierChain\n",
        "# from skmultilearn.problem_transform import LabelPowerset"
      ],
      "metadata": {
        "trusted": true,
        "execution": {
          "iopub.status.busy": "2024-11-07T05:50:38.059826Z",
          "iopub.execute_input": "2024-11-07T05:50:38.060414Z",
          "iopub.status.idle": "2024-11-07T05:50:38.071921Z",
          "shell.execute_reply.started": "2024-11-07T05:50:38.060357Z",
          "shell.execute_reply": "2024-11-07T05:50:38.070253Z"
        },
        "id": "VM3-FKon1vbV"
      },
      "outputs": [],
      "execution_count": null
    },
    {
      "cell_type": "code",
      "source": [
        "import pandas as pd\n",
        "import numpy as np\n",
        "import matplotlib.pyplot as plt\n",
        "import seaborn as sns\n",
        "\n",
        "# Libraries for Feature Selection\n",
        "from sklearn.feature_selection import SelectKBest\n",
        "from sklearn.feature_selection import chi2\n",
        "from sklearn.ensemble import ExtraTreesClassifier\n",
        "from sklearn.decomposition import PCA\n",
        "\n",
        "# Libraries for model training\n",
        "from sklearn.preprocessing import MinMaxScaler, LabelEncoder\n",
        "from sklearn.model_selection import train_test_split , GridSearchCV , cross_val_score\n",
        "\n",
        "# Libraries for algorithm\n",
        "from sklearn.linear_model import LogisticRegression\n",
        "from sklearn.tree import DecisionTreeClassifier\n",
        "from sklearn.naive_bayes import GaussianNB\n",
        "from sklearn.ensemble import RandomForestClassifier\n",
        "\n",
        "# Libraries for testing\n",
        "from sklearn.metrics import accuracy_score , classification_report\n",
        "\n",
        "# Removing warnings\n",
        "import warnings\n",
        "warnings.filterwarnings('ignore')\n",
        "\n",
        "#Check missing values\n",
        "import missingno as msno\n",
        "\n",
        "# Storing plots\n",
        "%matplotlib inline"
      ],
      "metadata": {
        "execution": {
          "iopub.status.busy": "2024-11-07T05:52:39.611938Z",
          "iopub.execute_input": "2024-11-07T05:52:39.612407Z",
          "iopub.status.idle": "2024-11-07T05:52:39.632319Z",
          "shell.execute_reply.started": "2024-11-07T05:52:39.612350Z",
          "shell.execute_reply": "2024-11-07T05:52:39.630661Z"
        },
        "trusted": true,
        "id": "tbCRWV6o1vbW"
      },
      "outputs": [],
      "execution_count": null
    },
    {
      "cell_type": "markdown",
      "source": [
        "## **1. Preprocessing**"
      ],
      "metadata": {
        "id": "GE33a1no1vbW"
      }
    },
    {
      "cell_type": "code",
      "source": [
        "# Load data\n",
        "!wget -q -O H1N1_Flu_Vaccines.csv https://raw.githubusercontent.com/dguevaraapaza/H1N1-Seasonal-Flu-Vaccine/refs/heads/main/data/H1N1_Flu_Vaccines.csv\n",
        "vac = pd.read_csv('H1N1_Flu_Vaccines.csv', index_col='respondent_id', delimiter=',')"
      ],
      "metadata": {
        "execution": {
          "iopub.status.busy": "2024-11-07T05:50:39.842586Z",
          "iopub.execute_input": "2024-11-07T05:50:39.843286Z",
          "iopub.status.idle": "2024-11-07T05:50:40.177740Z",
          "shell.execute_reply.started": "2024-11-07T05:50:39.843251Z",
          "shell.execute_reply": "2024-11-07T05:50:40.176205Z"
        },
        "trusted": true,
        "id": "07iqAiBI1vbW"
      },
      "outputs": [],
      "execution_count": null
    },
    {
      "cell_type": "code",
      "source": [
        "# Records that have multiple empty values\n",
        "\n",
        "# Calculate the number of missing values per row\n",
        "missing_counts = vac.isnull().sum(axis=1)\n",
        "\n",
        "# Find rows with more than a certain threshold of missing values\n",
        "threshold = 5  #5 missing values\n",
        "rows_with_multiple_missing = vac[missing_counts > threshold]\n",
        "\n",
        "# Display the rows with multiple missing values\n",
        "rows_with_multiple_missing\n",
        "\n",
        "# Alternatively, to just get the indices of these rows\n",
        "indices_with_multiple_missing = rows_with_multiple_missing.index.tolist()\n",
        "print(len(indices_with_multiple_missing))\n",
        "#print(indices_with_multiple_missing)\n",
        "\n",
        "# Dropping the values in indices_with_multiple_missing\n",
        "vac = vac.drop(indices_with_multiple_missing)"
      ],
      "metadata": {
        "colab": {
          "base_uri": "https://localhost:8080/"
        },
        "id": "DqsX8Mtl9x7t",
        "outputId": "04174c78-296b-4ee5-fde0-d61afa96a699"
      },
      "execution_count": null,
      "outputs": [
        {
          "output_type": "stream",
          "name": "stdout",
          "text": [
            "1609\n"
          ]
        }
      ]
    },
    {
      "cell_type": "code",
      "source": [
        "import missingno as msno\n",
        "msno.matrix(vac)\n",
        "plt.show()"
      ],
      "metadata": {
        "colab": {
          "base_uri": "https://localhost:8080/",
          "height": 772
        },
        "id": "9NdD-kanBgkl",
        "outputId": "a974da8a-9b18-427b-ed30-7c8bb2fa5823"
      },
      "execution_count": null,
      "outputs": [
        {
          "output_type": "display_data",
          "data": {
            "text/plain": [
              "<Figure size 2500x1000 with 2 Axes>"
            ],
            "image/png": "[encoded data removed]"
          },
          "metadata": {}
        }
      ]
    },
    {
      "cell_type": "code",
      "source": [
        "# prompt: prepare a table with the amount of is.na values true and false from all the columns\n",
        "\n",
        "import pandas as pd\n",
        "\n",
        "# Assuming 'vac' DataFrame is already loaded as in the provided code.\n",
        "\n",
        "na_counts = pd.DataFrame()\n",
        "\n",
        "for col in vac.columns:\n",
        "    true_count = vac[col].isna().sum()\n",
        "    false_count = len(vac) - true_count  # Calculate false counts\n",
        "    na_counts = pd.concat([na_counts, pd.DataFrame({'Column': [col], 'Empty': [true_count], 'Non-Empty': [false_count]})], ignore_index=True)\n",
        "\n",
        "na_counts = na_counts.sort_values(by='Empty', ascending=False)\n",
        "na_counts.head(10)"
      ],
      "metadata": {
        "colab": {
          "base_uri": "https://localhost:8080/",
          "height": 363
        },
        "id": "HbDFGbJLWmR5",
        "outputId": "212947e2-be83-4ce7-a67f-d2502ce796d9"
      },
      "execution_count": null,
      "outputs": [
        {
          "output_type": "execute_result",
          "data": {
            "text/plain": [
              "                   Column  Empty  Non-Empty\n",
              "34  employment_occupation  11868      13230\n",
              "33    employment_industry  11731      13367\n",
              "14       health_insurance  10739      14359\n",
              "25         income_poverty   2892      22206\n",
              "9        doctor_recc_h1n1   1709      23389\n",
              "10   doctor_recc_seasonal   1709      23389\n",
              "27            rent_or_own    651      24447\n",
              "11  chronic_med_condition    198      24900\n",
              "3    behavioral_avoidance    167      24931\n",
              "22              education    126      24972"
            ],
            "text/html": [
              "\n",
              "  <div id=\"df-416ccf1b-65f3-4006-946a-d67061a459fc\" class=\"colab-df-container\">\n",
              "    <div>\n",
              "<style scoped>\n",
              "    .dataframe tbody tr th:only-of-type {\n",
              "        vertical-align: middle;\n",
              "    }\n",
              "\n",
              "    .dataframe tbody tr th {\n",
              "        vertical-align: top;\n",
              "    }\n",
              "\n",
              "    .dataframe thead th {\n",
              "        text-align: right;\n",
              "    }\n",
              "</style>\n",
              "<table border=\"1\" class=\"dataframe\">\n",
              "  <thead>\n",
              "    <tr style=\"text-align: right;\">\n",
              "      <th></th>\n",
              "      <th>Column</th>\n",
              "      <th>Empty</th>\n",
              "      <th>Non-Empty</th>\n",
              "    </tr>\n",
              "  </thead>\n",
              "  <tbody>\n",
              "    <tr>\n",
              "      <th>34</th>\n",
              "      <td>employment_occupation</td>\n",
              "      <td>11868</td>\n",
              "      <td>13230</td>\n",
              "    </tr>\n",
              "    <tr>\n",
              "      <th>33</th>\n",
              "      <td>employment_industry</td>\n",
              "      <td>11731</td>\n",
              "      <td>13367</td>\n",
              "    </tr>\n",
              "    <tr>\n",
              "      <th>14</th>\n",
              "      <td>health_insurance</td>\n",
              "      <td>10739</td>\n",
              "      <td>14359</td>\n",
              "    </tr>\n",
              "    <tr>\n",
              "      <th>25</th>\n",
              "      <td>income_poverty</td>\n",
              "      <td>2892</td>\n",
              "      <td>22206</td>\n",
              "    </tr>\n",
              "    <tr>\n",
              "      <th>9</th>\n",
              "      <td>doctor_recc_h1n1</td>\n",
              "      <td>1709</td>\n",
              "      <td>23389</td>\n",
              "    </tr>\n",
              "    <tr>\n",
              "      <th>10</th>\n",
              "      <td>doctor_recc_seasonal</td>\n",
              "      <td>1709</td>\n",
              "      <td>23389</td>\n",
              "    </tr>\n",
              "    <tr>\n",
              "      <th>27</th>\n",
              "      <td>rent_or_own</td>\n",
              "      <td>651</td>\n",
              "      <td>24447</td>\n",
              "    </tr>\n",
              "    <tr>\n",
              "      <th>11</th>\n",
              "      <td>chronic_med_condition</td>\n",
              "      <td>198</td>\n",
              "      <td>24900</td>\n",
              "    </tr>\n",
              "    <tr>\n",
              "      <th>3</th>\n",
              "      <td>behavioral_avoidance</td>\n",
              "      <td>167</td>\n",
              "      <td>24931</td>\n",
              "    </tr>\n",
              "    <tr>\n",
              "      <th>22</th>\n",
              "      <td>education</td>\n",
              "      <td>126</td>\n",
              "      <td>24972</td>\n",
              "    </tr>\n",
              "  </tbody>\n",
              "</table>\n",
              "</div>\n",
              "    <div class=\"colab-df-buttons\">\n",
              "\n",
              "  <div class=\"colab-df-container\">\n",
              "    <button class=\"colab-df-convert\" onclick=\"convertToInteractive('df-416ccf1b-65f3-4006-946a-d67061a459fc')\"\n",
              "            title=\"Convert this dataframe to an interactive table.\"\n",
              "            style=\"display:none;\">\n",
              "\n",
              "  <svg xmlns=\"http://www.w3.org/2000/svg\" height=\"24px\" viewBox=\"0 -960 960 960\">\n",
              "    <path d=\"M120-120v-720h720v720H120Zm60-500h600v-160H180v160Zm220 220h160v-160H400v160Zm0 220h160v-160H400v160ZM180-400h160v-160H180v160Zm440 0h160v-160H620v160ZM180-180h160v-160H180v160Zm440 0h160v-160H620v160Z\"/>\n",
              "  </svg>\n",
              "    </button>\n",
              "\n",
              "  <style>\n",
              "    .colab-df-container {\n",
              "      display:flex;\n",
              "      gap: 12px;\n",
              "    }\n",
              "\n",
              "    .colab-df-convert {\n",
              "      background-color: #E8F0FE;\n",
              "      border: none;\n",
              "      border-radius: 50%;\n",
              "      cursor: pointer;\n",
              "      display: none;\n",
              "      fill: #1967D2;\n",
              "      height: 32px;\n",
              "      padding: 0 0 0 0;\n",
              "      width: 32px;\n",
              "    }\n",
              "\n",
              "    .colab-df-convert:hover {\n",
              "      background-color: #E2EBFA;\n",
              "      box-shadow: 0px 1px 2px rgba(60, 64, 67, 0.3), 0px 1px 3px 1px rgba(60, 64, 67, 0.15);\n",
              "      fill: #174EA6;\n",
              "    }\n",
              "\n",
              "    .colab-df-buttons div {\n",
              "      margin-bottom: 4px;\n",
              "    }\n",
              "\n",
              "    [theme=dark] .colab-df-convert {\n",
              "      background-color: #3B4455;\n",
              "      fill: #D2E3FC;\n",
              "    }\n",
              "\n",
              "    [theme=dark] .colab-df-convert:hover {\n",
              "      background-color: #434B5C;\n",
              "      box-shadow: 0px 1px 3px 1px rgba(0, 0, 0, 0.15);\n",
              "      filter: drop-shadow(0px 1px 2px rgba(0, 0, 0, 0.3));\n",
              "      fill: #FFFFFF;\n",
              "    }\n",
              "  </style>\n",
              "\n",
              "    <script>\n",
              "      const buttonEl =\n",
              "        document.querySelector('#df-416ccf1b-65f3-4006-946a-d67061a459fc button.colab-df-convert');\n",
              "      buttonEl.style.display =\n",
              "        google.colab.kernel.accessAllowed ? 'block' : 'none';\n",
              "\n",
              "      async function convertToInteractive(key) {\n",
              "        const element = document.querySelector('#df-416ccf1b-65f3-4006-946a-d67061a459fc');\n",
              "        const dataTable =\n",
              "          await google.colab.kernel.invokeFunction('convertToInteractive',\n",
              "                                                    [key], {});\n",
              "        if (!dataTable) return;\n",
              "\n",
              "        const docLinkHtml = 'Like what you see? Visit the ' +\n",
              "          '<a target=\"_blank\" href=https://colab.research.google.com/notebooks/data_table.ipynb>data table notebook</a>'\n",
              "          + ' to learn more about interactive tables.';\n",
              "        element.innerHTML = '';\n",
              "        dataTable['output_type'] = 'display_data';\n",
              "        await google.colab.output.renderOutput(dataTable, element);\n",
              "        const docLink = document.createElement('div');\n",
              "        docLink.innerHTML = docLinkHtml;\n",
              "        element.appendChild(docLink);\n",
              "      }\n",
              "    </script>\n",
              "  </div>\n",
              "\n",
              "\n",
              "<div id=\"df-f2f29620-dd5a-4944-a1d3-baa7bb13c8dc\">\n",
              "  <button class=\"colab-df-quickchart\" onclick=\"quickchart('df-f2f29620-dd5a-4944-a1d3-baa7bb13c8dc')\"\n",
              "            title=\"Suggest charts\"\n",
              "            style=\"display:none;\">\n",
              "\n",
              "<svg xmlns=\"http://www.w3.org/2000/svg\" height=\"24px\"viewBox=\"0 0 24 24\"\n",
              "     width=\"24px\">\n",
              "    <g>\n",
              "        <path d=\"M19 3H5c-1.1 0-2 .9-2 2v14c0 1.1.9 2 2 2h14c1.1 0 2-.9 2-2V5c0-1.1-.9-2-2-2zM9 17H7v-7h2v7zm4 0h-2V7h2v10zm4 0h-2v-4h2v4z\"/>\n",
              "    </g>\n",
              "</svg>\n",
              "  </button>\n",
              "\n",
              "<style>\n",
              "  .colab-df-quickchart {\n",
              "      --bg-color: #E8F0FE;\n",
              "      --fill-color: #1967D2;\n",
              "      --hover-bg-color: #E2EBFA;\n",
              "      --hover-fill-color: #174EA6;\n",
              "      --disabled-fill-color: #AAA;\n",
              "      --disabled-bg-color: #DDD;\n",
              "  }\n",
              "\n",
              "  [theme=dark] .colab-df-quickchart {\n",
              "      --bg-color: #3B4455;\n",
              "      --fill-color: #D2E3FC;\n",
              "      --hover-bg-color: #434B5C;\n",
              "      --hover-fill-color: #FFFFFF;\n",
              "      --disabled-bg-color: #3B4455;\n",
              "      --disabled-fill-color: #666;\n",
              "  }\n",
              "\n",
              "  .colab-df-quickchart {\n",
              "    background-color: var(--bg-color);\n",
              "    border: none;\n",
              "    border-radius: 50%;\n",
              "    cursor: pointer;\n",
              "    display: none;\n",
              "    fill: var(--fill-color);\n",
              "    height: 32px;\n",
              "    padding: 0;\n",
              "    width: 32px;\n",
              "  }\n",
              "\n",
              "  .colab-df-quickchart:hover {\n",
              "    background-color: var(--hover-bg-color);\n",
              "    box-shadow: 0 1px 2px rgba(60, 64, 67, 0.3), 0 1px 3px 1px rgba(60, 64, 67, 0.15);\n",
              "    fill: var(--button-hover-fill-color);\n",
              "  }\n",
              "\n",
              "  .colab-df-quickchart-complete:disabled,\n",
              "  .colab-df-quickchart-complete:disabled:hover {\n",
              "    background-color: var(--disabled-bg-color);\n",
              "    fill: var(--disabled-fill-color);\n",
              "    box-shadow: none;\n",
              "  }\n",
              "\n",
              "  .colab-df-spinner {\n",
              "    border: 2px solid var(--fill-color);\n",
              "    border-color: transparent;\n",
              "    border-bottom-color: var(--fill-color);\n",
              "    animation:\n",
              "      spin 1s steps(1) infinite;\n",
              "  }\n",
              "\n",
              "  @keyframes spin {\n",
              "    0% {\n",
              "      border-color: transparent;\n",
              "      border-bottom-color: var(--fill-color);\n",
              "      border-left-color: var(--fill-color);\n",
              "    }\n",
              "    20% {\n",
              "      border-color: transparent;\n",
              "      border-left-color: var(--fill-color);\n",
              "      border-top-color: var(--fill-color);\n",
              "    }\n",
              "    30% {\n",
              "      border-color: transparent;\n",
              "      border-left-color: var(--fill-color);\n",
              "      border-top-color: var(--fill-color);\n",
              "      border-right-color: var(--fill-color);\n",
              "    }\n",
              "    40% {\n",
              "      border-color: transparent;\n",
              "      border-right-color: var(--fill-color);\n",
              "      border-top-color: var(--fill-color);\n",
              "    }\n",
              "    60% {\n",
              "      border-color: transparent;\n",
              "      border-right-color: var(--fill-color);\n",
              "    }\n",
              "    80% {\n",
              "      border-color: transparent;\n",
              "      border-right-color: var(--fill-color);\n",
              "      border-bottom-color: var(--fill-color);\n",
              "    }\n",
              "    90% {\n",
              "      border-color: transparent;\n",
              "      border-bottom-color: var(--fill-color);\n",
              "    }\n",
              "  }\n",
              "</style>\n",
              "\n",
              "  <script>\n",
              "    async function quickchart(key) {\n",
              "      const quickchartButtonEl =\n",
              "        document.querySelector('#' + key + ' button');\n",
              "      quickchartButtonEl.disabled = true;  // To prevent multiple clicks.\n",
              "      quickchartButtonEl.classList.add('colab-df-spinner');\n",
              "      try {\n",
              "        const charts = await google.colab.kernel.invokeFunction(\n",
              "            'suggestCharts', [key], {});\n",
              "      } catch (error) {\n",
              "        console.error('Error during call to suggestCharts:', error);\n",
              "      }\n",
              "      quickchartButtonEl.classList.remove('colab-df-spinner');\n",
              "      quickchartButtonEl.classList.add('colab-df-quickchart-complete');\n",
              "    }\n",
              "    (() => {\n",
              "      let quickchartButtonEl =\n",
              "        document.querySelector('#df-f2f29620-dd5a-4944-a1d3-baa7bb13c8dc button');\n",
              "      quickchartButtonEl.style.display =\n",
              "        google.colab.kernel.accessAllowed ? 'block' : 'none';\n",
              "    })();\n",
              "  </script>\n",
              "</div>\n",
              "\n",
              "    </div>\n",
              "  </div>\n"
            ],
            "application/vnd.google.colaboratory.intrinsic+json": {
              "type": "dataframe",
              "variable_name": "na_counts",
              "summary": "{\n  \"name\": \"na_counts\",\n  \"rows\": 37,\n  \"fields\": [\n    {\n      \"column\": \"Column\",\n      \"properties\": {\n        \"dtype\": \"string\",\n        \"num_unique_values\": 37,\n        \"samples\": [\n          \"h1n1_concern\",\n          \"h1n1_knowledge\",\n          \"doctor_recc_h1n1\"\n        ],\n        \"semantic_type\": \"\",\n        \"description\": \"\"\n      }\n    },\n    {\n      \"column\": \"Empty\",\n      \"properties\": {\n        \"dtype\": \"number\",\n        \"std\": 3159,\n        \"min\": 0,\n        \"max\": 11868,\n        \"num_unique_values\": 28,\n        \"samples\": [\n          123,\n          7,\n          126\n        ],\n        \"semantic_type\": \"\",\n        \"description\": \"\"\n      }\n    },\n    {\n      \"column\": \"Non-Empty\",\n      \"properties\": {\n        \"dtype\": \"number\",\n        \"std\": 3159,\n        \"min\": 13230,\n        \"max\": 25098,\n        \"num_unique_values\": 28,\n        \"samples\": [\n          24975,\n          25091,\n          24972\n        ],\n        \"semantic_type\": \"\",\n        \"description\": \"\"\n      }\n    }\n  ]\n}"
            }
          },
          "metadata": {},
          "execution_count": 63
        }
      ]
    },
    {
      "cell_type": "code",
      "source": [
        "# Datatype features\n",
        "vac.info()"
      ],
      "metadata": {
        "trusted": true,
        "execution": {
          "iopub.status.busy": "2024-11-07T05:57:02.303751Z",
          "iopub.execute_input": "2024-11-07T05:57:02.304172Z",
          "iopub.status.idle": "2024-11-07T05:57:02.354080Z",
          "shell.execute_reply.started": "2024-11-07T05:57:02.304140Z",
          "shell.execute_reply": "2024-11-07T05:57:02.352659Z"
        },
        "colab": {
          "base_uri": "https://localhost:8080/"
        },
        "id": "lTbULcPV1vbW",
        "outputId": "6a7e34cc-b7f7-4a80-dcf2-3019d15635f5"
      },
      "outputs": [
        {
          "output_type": "stream",
          "name": "stdout",
          "text": [
            "<class 'pandas.core.frame.DataFrame'>\n",
            "Index: 25098 entries, 0 to 26706\n",
            "Data columns (total 37 columns):\n",
            " #   Column                       Non-Null Count  Dtype  \n",
            "---  ------                       --------------  -----  \n",
            " 0   h1n1_concern                 25044 non-null  float64\n",
            " 1   h1n1_knowledge               25004 non-null  float64\n",
            " 2   behavioral_antiviral_meds    25045 non-null  float64\n",
            " 3   behavioral_avoidance         24931 non-null  float64\n",
            " 4   behavioral_face_mask         25086 non-null  float64\n",
            " 5   behavioral_wash_hands        25069 non-null  float64\n",
            " 6   behavioral_large_gatherings  25029 non-null  float64\n",
            " 7   behavioral_outside_home      25034 non-null  float64\n",
            " 8   behavioral_touch_face        25000 non-null  float64\n",
            " 9   doctor_recc_h1n1             23389 non-null  float64\n",
            " 10  doctor_recc_seasonal         23389 non-null  float64\n",
            " 11  chronic_med_condition        24900 non-null  float64\n",
            " 12  child_under_6_months         25097 non-null  float64\n",
            " 13  health_worker                25087 non-null  float64\n",
            " 14  health_insurance             14359 non-null  float64\n",
            " 15  opinion_h1n1_vacc_effective  25024 non-null  float64\n",
            " 16  opinion_h1n1_risk            25071 non-null  float64\n",
            " 17  opinion_h1n1_sick_from_vacc  25089 non-null  float64\n",
            " 18  opinion_seas_vacc_effective  25066 non-null  float64\n",
            " 19  opinion_seas_risk            25078 non-null  float64\n",
            " 20  opinion_seas_sick_from_vacc  25089 non-null  float64\n",
            " 21  age_group                    25098 non-null  object \n",
            " 22  education                    24972 non-null  object \n",
            " 23  race                         25098 non-null  object \n",
            " 24  sex                          25098 non-null  object \n",
            " 25  income_poverty               22206 non-null  object \n",
            " 26  marital_status               24977 non-null  object \n",
            " 27  rent_or_own                  24447 non-null  object \n",
            " 28  employment_status            24975 non-null  object \n",
            " 29  hhs_geo_region               25098 non-null  object \n",
            " 30  census_msa                   25098 non-null  object \n",
            " 31  household_adults             25091 non-null  float64\n",
            " 32  household_children           25091 non-null  float64\n",
            " 33  employment_industry          13367 non-null  object \n",
            " 34  employment_occupation        13230 non-null  object \n",
            " 35  h1n1_vaccine                 25098 non-null  int64  \n",
            " 36  seasonal_vaccine             25098 non-null  int64  \n",
            "dtypes: float64(23), int64(2), object(12)\n",
            "memory usage: 7.3+ MB\n"
          ]
        }
      ],
      "execution_count": null
    },
    {
      "cell_type": "code",
      "source": [
        "# check the data types\n",
        "# for i in vac.columns:\n",
        "#   print(f'***********************')\n",
        "#   print(i)\n",
        "#   print(f'***********************')\n",
        "#   print(vac[i].value_counts())\n",
        "#   print(f'-----------------------')\n",
        "#   print(vac[i].isna().value_counts())\n",
        "#   print(f'-----------------------')"
      ],
      "metadata": {
        "id": "JigHwkh0-Qas"
      },
      "execution_count": null,
      "outputs": []
    },
    {
      "cell_type": "code",
      "source": [
        "# review\n",
        "categorical = ['h1n1_concern', 'h1n1_knowledge', 'opinion_h1n1_vacc_effective',\n",
        "               'opinion_h1n1_risk', 'opinion_h1n1_sick_from_vacc',\n",
        "               'opinion_seas_vacc_effective', 'opinion_seas_risk',\n",
        "               'opinion_seas_sick_from_vacc', 'age_group', 'education', 'race',\n",
        "               'sex', 'marital_status', 'rent_or_own',\n",
        "               'employment_status', 'household_adults', 'household_children']\n",
        "\n",
        "binary = ['behavioral_antiviral_meds', 'behavioral_avoidance', 'behavioral_face_mask',\n",
        "          'behavioral_wash_hands', 'behavioral_large_gatherings',\n",
        "          'behavioral_outside_home', 'behavioral_touch_face',\n",
        "          'doctor_recc_h1n1', 'doctor_recc_seasonal', 'chronic_med_condition',\n",
        "          'child_under_6_months', 'chronic_med_condition', 'health_worker']\n",
        "\n",
        "# variables to be removed\n",
        "worst = ['income_poverty', 'hhs_geo_region', 'census_msa', 'employment_industry',\n",
        "        'employment_occupation', 'health_insurance']"
      ],
      "metadata": {
        "id": "Ay5pJvPqANjV"
      },
      "execution_count": null,
      "outputs": []
    },
    {
      "cell_type": "code",
      "source": [],
      "metadata": {
        "id": "n_8vwqrtb34p"
      },
      "execution_count": null,
      "outputs": []
    },
    {
      "cell_type": "code",
      "source": [],
      "metadata": {
        "id": "xAyWx0h9b31p"
      },
      "execution_count": null,
      "outputs": []
    },
    {
      "cell_type": "code",
      "source": [],
      "metadata": {
        "id": "i5wwSCHzco15"
      },
      "execution_count": null,
      "outputs": []
    },
    {
      "cell_type": "markdown",
      "source": [
        "# DATA PRE-PROCESSING"
      ],
      "metadata": {
        "id": "06ZSsQy81vbY"
      }
    },
    {
      "cell_type": "code",
      "source": [
        "# Prepare datasets\n",
        "predictors = ['h1n1_vaccine', 'seasonal_vaccine'] # predictor variables\n",
        "features = vac[predictors] # (26707, 2)\n",
        "labels = vac.drop(predictors, axis=1) # (26707, 35)"
      ],
      "metadata": {
        "trusted": true,
        "execution": {
          "iopub.status.busy": "2024-11-07T05:50:40.180275Z",
          "iopub.execute_input": "2024-11-07T05:50:40.180757Z",
          "iopub.status.idle": "2024-11-07T05:50:40.196976Z",
          "shell.execute_reply.started": "2024-11-07T05:50:40.180718Z",
          "shell.execute_reply": "2024-11-07T05:50:40.195348Z"
        },
        "id": "zLcVfnLI1vbX"
      },
      "outputs": [],
      "execution_count": null
    },
    {
      "cell_type": "markdown",
      "source": [
        "## Filling the missing values"
      ],
      "metadata": {
        "id": "Z1OCqXwe1vbY"
      }
    },
    {
      "cell_type": "code",
      "source": [
        "# For float fill missing values with the mean\n",
        "\n",
        "features = features.fillna(features.mean())\n",
        "features = round(features)\n",
        "\n",
        "# For string fill missing value with 'No Category'\n",
        "\n",
        "features = features.fillna('No Category')"
      ],
      "metadata": {
        "execution": {
          "iopub.status.busy": "2023-05-19T05:53:45.315418Z",
          "iopub.execute_input": "2023-05-19T05:53:45.315838Z",
          "iopub.status.idle": "2023-05-19T05:53:46.192547Z",
          "shell.execute_reply.started": "2023-05-19T05:53:45.3158Z",
          "shell.execute_reply": "2023-05-19T05:53:46.191443Z"
        },
        "trusted": true,
        "id": "HhWM_Gfs1vbY"
      },
      "outputs": [],
      "execution_count": null
    },
    {
      "cell_type": "code",
      "source": [
        "features.isnull().sum()"
      ],
      "metadata": {
        "execution": {
          "iopub.status.busy": "2023-05-19T05:53:46.194542Z",
          "iopub.execute_input": "2023-05-19T05:53:46.195001Z",
          "iopub.status.idle": "2023-05-19T05:53:46.255122Z",
          "shell.execute_reply.started": "2023-05-19T05:53:46.194948Z",
          "shell.execute_reply": "2023-05-19T05:53:46.254125Z"
        },
        "trusted": true,
        "id": "baY9FplL1vbY"
      },
      "outputs": [],
      "execution_count": null
    },
    {
      "cell_type": "markdown",
      "source": [
        "## Encoding the object"
      ],
      "metadata": {
        "id": "EBVSnwDI1vbY"
      }
    },
    {
      "cell_type": "code",
      "source": [
        "enc = LabelEncoder()"
      ],
      "metadata": {
        "execution": {
          "iopub.status.busy": "2023-05-19T05:53:46.36695Z",
          "iopub.execute_input": "2023-05-19T05:53:46.367286Z",
          "iopub.status.idle": "2023-05-19T05:53:46.374224Z",
          "shell.execute_reply.started": "2023-05-19T05:53:46.367241Z",
          "shell.execute_reply": "2023-05-19T05:53:46.373036Z"
        },
        "trusted": true,
        "id": "iP3bM_Zb1vbY"
      },
      "outputs": [],
      "execution_count": null
    },
    {
      "cell_type": "code",
      "source": [
        "features.age_group = enc.fit_transform(features.age_group)\n",
        "features.education = enc.fit_transform(features.education)\n",
        "features.race = enc.fit_transform(features.race)\n",
        "features.sex = enc.fit_transform(features.sex)\n",
        "features.income_poverty = enc.fit_transform(features.income_poverty)\n",
        "features.marital_status = enc.fit_transform(features.marital_status)\n",
        "features.rent_or_own = enc.fit_transform(features.rent_or_own)\n",
        "features.employment_status = enc.fit_transform(features.employment_status)\n",
        "features.hhs_geo_region = enc.fit_transform(features.hhs_geo_region)\n",
        "features.census_msa = enc.fit_transform(features.census_msa)\n",
        "features.employment_industry = enc.fit_transform(features.employment_industry)\n",
        "features.employment_occupation = enc.fit_transform(features.employment_occupation)"
      ],
      "metadata": {
        "execution": {
          "iopub.status.busy": "2023-05-19T05:53:46.375916Z",
          "iopub.execute_input": "2023-05-19T05:53:46.376157Z",
          "iopub.status.idle": "2023-05-19T05:53:46.522098Z",
          "shell.execute_reply.started": "2023-05-19T05:53:46.376113Z",
          "shell.execute_reply": "2023-05-19T05:53:46.521203Z"
        },
        "trusted": true,
        "id": "0FYFu1ID1vbY"
      },
      "outputs": [],
      "execution_count": null
    },
    {
      "cell_type": "code",
      "source": [
        "features.info()"
      ],
      "metadata": {
        "execution": {
          "iopub.status.busy": "2023-05-19T05:53:46.523684Z",
          "iopub.execute_input": "2023-05-19T05:53:46.524023Z",
          "iopub.status.idle": "2023-05-19T05:53:46.547367Z",
          "shell.execute_reply.started": "2023-05-19T05:53:46.523985Z",
          "shell.execute_reply": "2023-05-19T05:53:46.546207Z"
        },
        "trusted": true,
        "id": "JmIqZOYj1vbY"
      },
      "outputs": [],
      "execution_count": null
    },
    {
      "cell_type": "markdown",
      "source": [
        "## Checking the dataset"
      ],
      "metadata": {
        "id": "3nO14wUf1vbZ"
      }
    },
    {
      "cell_type": "code",
      "source": [
        "features.head(10)"
      ],
      "metadata": {
        "execution": {
          "iopub.status.busy": "2023-05-19T05:53:46.548939Z",
          "iopub.execute_input": "2023-05-19T05:53:46.549293Z",
          "iopub.status.idle": "2023-05-19T05:53:46.590957Z",
          "shell.execute_reply.started": "2023-05-19T05:53:46.549247Z",
          "shell.execute_reply": "2023-05-19T05:53:46.590187Z"
        },
        "trusted": true,
        "id": "9hfmWulx1vbZ"
      },
      "outputs": [],
      "execution_count": null
    },
    {
      "cell_type": "markdown",
      "source": [
        "# EXPLORATORY DATA ANALYSIS"
      ],
      "metadata": {
        "id": "nB_74Qh71vbZ"
      }
    },
    {
      "cell_type": "markdown",
      "source": [
        "## Checking the statistical information"
      ],
      "metadata": {
        "id": "6kEY0kod1vbZ"
      }
    },
    {
      "cell_type": "code",
      "source": [
        "features.describe()"
      ],
      "metadata": {
        "execution": {
          "iopub.status.busy": "2023-05-19T05:53:46.592181Z",
          "iopub.execute_input": "2023-05-19T05:53:46.593229Z",
          "iopub.status.idle": "2023-05-19T05:53:46.732573Z",
          "shell.execute_reply.started": "2023-05-19T05:53:46.593192Z",
          "shell.execute_reply": "2023-05-19T05:53:46.731439Z"
        },
        "trusted": true,
        "id": "ATg-WoI21vbZ"
      },
      "outputs": [],
      "execution_count": null
    },
    {
      "cell_type": "markdown",
      "source": [
        "## Finding the outliers in dataset"
      ],
      "metadata": {
        "id": "z00pQmE-1vbc"
      }
    },
    {
      "cell_type": "code",
      "source": [
        "# Function to find the outliers\n",
        "\n",
        "def findoutliers(column):\n",
        "    outliers=[]\n",
        "    Q1=column.quantile(.25)\n",
        "    Q3=column.quantile(.75)\n",
        "    IQR=Q3-Q1\n",
        "    lower_limit=Q1-(1.5*IQR)\n",
        "    upper_limit=Q3+(1.5*IQR)\n",
        "    for out1 in column:\n",
        "        if out1>upper_limit or out1 <lower_limit:\n",
        "            outliers.append(out1)\n",
        "\n",
        "    return np.array(outliers)"
      ],
      "metadata": {
        "execution": {
          "iopub.status.busy": "2023-05-19T05:53:46.733953Z",
          "iopub.execute_input": "2023-05-19T05:53:46.7343Z",
          "iopub.status.idle": "2023-05-19T05:53:46.742108Z",
          "shell.execute_reply.started": "2023-05-19T05:53:46.734252Z",
          "shell.execute_reply": "2023-05-19T05:53:46.740802Z"
        },
        "trusted": true,
        "id": "MvWU9f861vbc"
      },
      "outputs": [],
      "execution_count": null
    },
    {
      "cell_type": "code",
      "source": [
        "print(len(findoutliers(features.household_adults)))\n",
        "print(len(findoutliers(features.household_children)))"
      ],
      "metadata": {
        "execution": {
          "iopub.status.busy": "2023-05-19T05:53:46.743822Z",
          "iopub.execute_input": "2023-05-19T05:53:46.744507Z",
          "iopub.status.idle": "2023-05-19T05:53:46.794074Z",
          "shell.execute_reply.started": "2023-05-19T05:53:46.744447Z",
          "shell.execute_reply": "2023-05-19T05:53:46.793119Z"
        },
        "trusted": true,
        "id": "GoUyp2Qp1vbc"
      },
      "outputs": [],
      "execution_count": null
    },
    {
      "cell_type": "code",
      "source": [
        "findoutliers(features.household_adults)"
      ],
      "metadata": {
        "execution": {
          "iopub.status.busy": "2023-05-19T05:53:46.795821Z",
          "iopub.execute_input": "2023-05-19T05:53:46.796104Z",
          "iopub.status.idle": "2023-05-19T05:53:46.824829Z",
          "shell.execute_reply.started": "2023-05-19T05:53:46.796068Z",
          "shell.execute_reply": "2023-05-19T05:53:46.823825Z"
        },
        "trusted": true,
        "id": "QaEQ7F811vbc"
      },
      "outputs": [],
      "execution_count": null
    },
    {
      "cell_type": "code",
      "source": [
        "findoutliers(features.household_children)"
      ],
      "metadata": {
        "execution": {
          "iopub.status.busy": "2023-05-19T05:53:46.826409Z",
          "iopub.execute_input": "2023-05-19T05:53:46.827503Z",
          "iopub.status.idle": "2023-05-19T05:53:46.857253Z",
          "shell.execute_reply.started": "2023-05-19T05:53:46.827425Z",
          "shell.execute_reply": "2023-05-19T05:53:46.856209Z"
        },
        "trusted": true,
        "id": "H0FXjfxw1vbc"
      },
      "outputs": [],
      "execution_count": null
    },
    {
      "cell_type": "code",
      "source": [
        "# Visualising the outliers\n",
        "sns.boxplot(features.household_adults)"
      ],
      "metadata": {
        "execution": {
          "iopub.status.busy": "2023-05-19T05:53:46.859209Z",
          "iopub.execute_input": "2023-05-19T05:53:46.859535Z",
          "iopub.status.idle": "2023-05-19T05:53:47.119408Z",
          "shell.execute_reply.started": "2023-05-19T05:53:46.859496Z",
          "shell.execute_reply": "2023-05-19T05:53:47.118431Z"
        },
        "trusted": true,
        "id": "ierlD8GR1vbc"
      },
      "outputs": [],
      "execution_count": null
    },
    {
      "cell_type": "code",
      "source": [
        "sns.boxplot(features.household_children)"
      ],
      "metadata": {
        "execution": {
          "iopub.status.busy": "2023-05-19T05:53:47.128083Z",
          "iopub.execute_input": "2023-05-19T05:53:47.128415Z",
          "iopub.status.idle": "2023-05-19T05:53:47.354145Z",
          "shell.execute_reply.started": "2023-05-19T05:53:47.128381Z",
          "shell.execute_reply": "2023-05-19T05:53:47.352914Z"
        },
        "trusted": true,
        "id": "uL9Tba8t1vbc"
      },
      "outputs": [],
      "execution_count": null
    },
    {
      "cell_type": "markdown",
      "source": [
        "#### There are outliers in the dataset but we are not removing them as some algorithms are not sensitive to outliers"
      ],
      "metadata": {
        "id": "K6Gh2Omn1vbc"
      }
    },
    {
      "cell_type": "markdown",
      "source": [
        "# Visualising numerical data"
      ],
      "metadata": {
        "id": "vdmBoW6c1vbd"
      }
    },
    {
      "cell_type": "code",
      "source": [
        "sns.displot(features.household_adults)"
      ],
      "metadata": {
        "execution": {
          "iopub.status.busy": "2023-05-19T05:53:47.355494Z",
          "iopub.execute_input": "2023-05-19T05:53:47.355769Z",
          "iopub.status.idle": "2023-05-19T05:53:47.896211Z",
          "shell.execute_reply.started": "2023-05-19T05:53:47.355734Z",
          "shell.execute_reply": "2023-05-19T05:53:47.895422Z"
        },
        "trusted": true,
        "id": "KUUZV13o1vbd"
      },
      "outputs": [],
      "execution_count": null
    },
    {
      "cell_type": "markdown",
      "source": [
        "#### Number of other adults in household is mostly 1."
      ],
      "metadata": {
        "id": "WvwsQ5vX1vbd"
      }
    },
    {
      "cell_type": "code",
      "source": [
        "sns.displot(features.household_children)"
      ],
      "metadata": {
        "execution": {
          "iopub.status.busy": "2023-05-19T05:53:47.897627Z",
          "iopub.execute_input": "2023-05-19T05:53:47.898581Z",
          "iopub.status.idle": "2023-05-19T05:53:48.443484Z",
          "shell.execute_reply.started": "2023-05-19T05:53:47.898536Z",
          "shell.execute_reply": "2023-05-19T05:53:48.442224Z"
        },
        "trusted": true,
        "id": "TbENSN4A1vbd"
      },
      "outputs": [],
      "execution_count": null
    },
    {
      "cell_type": "markdown",
      "source": [
        "#### Number of children in household is mostly 0."
      ],
      "metadata": {
        "id": "cAkG6RLW1vbd"
      }
    },
    {
      "cell_type": "markdown",
      "source": [
        "## Visualising categorical data"
      ],
      "metadata": {
        "id": "naPElKzt1vbd"
      }
    },
    {
      "cell_type": "code",
      "source": [
        "features.h1n1_concern.value_counts()"
      ],
      "metadata": {
        "execution": {
          "iopub.status.busy": "2023-05-19T05:53:48.445281Z",
          "iopub.execute_input": "2023-05-19T05:53:48.446065Z",
          "iopub.status.idle": "2023-05-19T05:53:48.457257Z",
          "shell.execute_reply.started": "2023-05-19T05:53:48.446021Z",
          "shell.execute_reply": "2023-05-19T05:53:48.456331Z"
        },
        "trusted": true,
        "id": "F0g8KX3-1vbd"
      },
      "outputs": [],
      "execution_count": null
    },
    {
      "cell_type": "code",
      "source": [
        "sns.factorplot('h1n1_concern', data = features, kind = \"count\")"
      ],
      "metadata": {
        "execution": {
          "iopub.status.busy": "2023-05-19T05:53:48.458866Z",
          "iopub.execute_input": "2023-05-19T05:53:48.45963Z",
          "iopub.status.idle": "2023-05-19T05:53:48.824112Z",
          "shell.execute_reply.started": "2023-05-19T05:53:48.45958Z",
          "shell.execute_reply": "2023-05-19T05:53:48.823364Z"
        },
        "trusted": true,
        "id": "7EA_ZKsn1vbd"
      },
      "outputs": [],
      "execution_count": null
    },
    {
      "cell_type": "markdown",
      "source": [
        "#### Most of the people are somewhat concerned about h1n1 vaccine."
      ],
      "metadata": {
        "id": "sUs9sO_X1vbd"
      }
    },
    {
      "cell_type": "code",
      "source": [
        "features.h1n1_knowledge.value_counts()"
      ],
      "metadata": {
        "execution": {
          "iopub.status.busy": "2023-05-19T05:53:48.825363Z",
          "iopub.execute_input": "2023-05-19T05:53:48.826083Z",
          "iopub.status.idle": "2023-05-19T05:53:48.835649Z",
          "shell.execute_reply.started": "2023-05-19T05:53:48.826042Z",
          "shell.execute_reply": "2023-05-19T05:53:48.834447Z"
        },
        "trusted": true,
        "id": "lfpqR_Tk1vbd"
      },
      "outputs": [],
      "execution_count": null
    },
    {
      "cell_type": "code",
      "source": [
        "sns.factorplot('h1n1_knowledge', data = features, kind = \"count\")"
      ],
      "metadata": {
        "execution": {
          "iopub.status.busy": "2023-05-19T05:53:48.8375Z",
          "iopub.execute_input": "2023-05-19T05:53:48.838066Z",
          "iopub.status.idle": "2023-05-19T05:53:49.189337Z",
          "shell.execute_reply.started": "2023-05-19T05:53:48.838027Z",
          "shell.execute_reply": "2023-05-19T05:53:49.188664Z"
        },
        "trusted": true,
        "id": "1J5jHFgs1vbd"
      },
      "outputs": [],
      "execution_count": null
    },
    {
      "cell_type": "markdown",
      "source": [
        "#### Almost 90% of people have little or lots of knowledge about h1n1 vaccine."
      ],
      "metadata": {
        "id": "cXjooMK41vbd"
      }
    },
    {
      "cell_type": "code",
      "source": [
        "features.behavioral_antiviral_meds.value_counts()"
      ],
      "metadata": {
        "execution": {
          "iopub.status.busy": "2023-05-19T05:53:49.190434Z",
          "iopub.execute_input": "2023-05-19T05:53:49.191447Z",
          "iopub.status.idle": "2023-05-19T05:53:49.199434Z",
          "shell.execute_reply.started": "2023-05-19T05:53:49.191404Z",
          "shell.execute_reply": "2023-05-19T05:53:49.198678Z"
        },
        "trusted": true,
        "id": "y01gVJYG1vbd"
      },
      "outputs": [],
      "execution_count": null
    },
    {
      "cell_type": "code",
      "source": [
        "sns.factorplot('behavioral_antiviral_meds', data = features, kind = \"count\")"
      ],
      "metadata": {
        "execution": {
          "iopub.status.busy": "2023-05-19T05:53:49.200513Z",
          "iopub.execute_input": "2023-05-19T05:53:49.201536Z",
          "iopub.status.idle": "2023-05-19T05:53:49.445584Z",
          "shell.execute_reply.started": "2023-05-19T05:53:49.201477Z",
          "shell.execute_reply": "2023-05-19T05:53:49.444632Z"
        },
        "trusted": true,
        "id": "chdVHiob1vbd"
      },
      "outputs": [],
      "execution_count": null
    },
    {
      "cell_type": "markdown",
      "source": [
        "#### Almost non of the people took antiviral medications."
      ],
      "metadata": {
        "id": "eiT4yuX71vbe"
      }
    },
    {
      "cell_type": "code",
      "source": [
        "features.behavioral_avoidance.value_counts()"
      ],
      "metadata": {
        "execution": {
          "iopub.status.busy": "2023-05-19T05:53:49.446909Z",
          "iopub.execute_input": "2023-05-19T05:53:49.447204Z",
          "iopub.status.idle": "2023-05-19T05:53:49.456833Z",
          "shell.execute_reply.started": "2023-05-19T05:53:49.44717Z",
          "shell.execute_reply": "2023-05-19T05:53:49.455911Z"
        },
        "trusted": true,
        "id": "vDXGaTdH1vbe"
      },
      "outputs": [],
      "execution_count": null
    },
    {
      "cell_type": "code",
      "source": [
        "sns.factorplot('behavioral_avoidance', data = features, kind = \"count\")"
      ],
      "metadata": {
        "execution": {
          "iopub.status.busy": "2023-05-19T05:53:49.458088Z",
          "iopub.execute_input": "2023-05-19T05:53:49.458644Z",
          "iopub.status.idle": "2023-05-19T05:53:49.73021Z",
          "shell.execute_reply.started": "2023-05-19T05:53:49.458595Z",
          "shell.execute_reply": "2023-05-19T05:53:49.728795Z"
        },
        "trusted": true,
        "id": "Me1b0x-K1vbe"
      },
      "outputs": [],
      "execution_count": null
    },
    {
      "cell_type": "markdown",
      "source": [
        "#### 70% of people have avoided contact with people with symptoms."
      ],
      "metadata": {
        "id": "T8jS0ROZ1vbe"
      }
    },
    {
      "cell_type": "code",
      "source": [
        "features.behavioral_face_mask.value_counts()"
      ],
      "metadata": {
        "execution": {
          "iopub.status.busy": "2023-05-19T05:53:49.731914Z",
          "iopub.execute_input": "2023-05-19T05:53:49.732216Z",
          "iopub.status.idle": "2023-05-19T05:53:49.741249Z",
          "shell.execute_reply.started": "2023-05-19T05:53:49.732182Z",
          "shell.execute_reply": "2023-05-19T05:53:49.740559Z"
        },
        "trusted": true,
        "id": "sosFkG_t1vbe"
      },
      "outputs": [],
      "execution_count": null
    },
    {
      "cell_type": "code",
      "source": [
        "sns.factorplot('behavioral_face_mask', data = features, kind = \"count\")"
      ],
      "metadata": {
        "execution": {
          "iopub.status.busy": "2023-05-19T05:53:49.742408Z",
          "iopub.execute_input": "2023-05-19T05:53:49.743699Z",
          "iopub.status.idle": "2023-05-19T05:53:50.073868Z",
          "shell.execute_reply.started": "2023-05-19T05:53:49.743533Z",
          "shell.execute_reply": "2023-05-19T05:53:50.073171Z"
        },
        "trusted": true,
        "id": "AtOKS7vm1vbe"
      },
      "outputs": [],
      "execution_count": null
    },
    {
      "cell_type": "markdown",
      "source": [
        "#### Very few people have bought a face mask."
      ],
      "metadata": {
        "id": "MpoORjVp1vbe"
      }
    },
    {
      "cell_type": "code",
      "source": [
        "features.behavioral_wash_hands.value_counts()"
      ],
      "metadata": {
        "execution": {
          "iopub.status.busy": "2023-05-19T05:53:50.075401Z",
          "iopub.execute_input": "2023-05-19T05:53:50.076706Z",
          "iopub.status.idle": "2023-05-19T05:53:50.087169Z",
          "shell.execute_reply.started": "2023-05-19T05:53:50.07665Z",
          "shell.execute_reply": "2023-05-19T05:53:50.085803Z"
        },
        "trusted": true,
        "id": "IZETexDP1vbe"
      },
      "outputs": [],
      "execution_count": null
    },
    {
      "cell_type": "code",
      "source": [
        "sns.factorplot('behavioral_wash_hands', data = features, kind = \"count\")"
      ],
      "metadata": {
        "execution": {
          "iopub.status.busy": "2023-05-19T05:53:50.088796Z",
          "iopub.execute_input": "2023-05-19T05:53:50.089077Z",
          "iopub.status.idle": "2023-05-19T05:53:50.344538Z",
          "shell.execute_reply.started": "2023-05-19T05:53:50.089044Z",
          "shell.execute_reply": "2023-05-19T05:53:50.343154Z"
        },
        "trusted": true,
        "id": "OiYcAMm-1vbe"
      },
      "outputs": [],
      "execution_count": null
    },
    {
      "cell_type": "markdown",
      "source": [
        "#### 80% of people have frequently washed their hands."
      ],
      "metadata": {
        "id": "NptbdrTT1vbe"
      }
    },
    {
      "cell_type": "code",
      "source": [
        "features.behavioral_large_gatherings.value_counts()"
      ],
      "metadata": {
        "execution": {
          "iopub.status.busy": "2023-05-19T05:53:50.346618Z",
          "iopub.execute_input": "2023-05-19T05:53:50.347026Z",
          "iopub.status.idle": "2023-05-19T05:53:50.357943Z",
          "shell.execute_reply.started": "2023-05-19T05:53:50.346975Z",
          "shell.execute_reply": "2023-05-19T05:53:50.356768Z"
        },
        "trusted": true,
        "id": "8pvmfavx1vbe"
      },
      "outputs": [],
      "execution_count": null
    },
    {
      "cell_type": "code",
      "source": [
        "sns.factorplot('behavioral_large_gatherings', data = features, kind = \"count\")"
      ],
      "metadata": {
        "execution": {
          "iopub.status.busy": "2023-05-19T05:53:50.359576Z",
          "iopub.execute_input": "2023-05-19T05:53:50.360892Z",
          "iopub.status.idle": "2023-05-19T05:53:50.646991Z",
          "shell.execute_reply.started": "2023-05-19T05:53:50.360822Z",
          "shell.execute_reply": "2023-05-19T05:53:50.645256Z"
        },
        "trusted": true,
        "id": "rtm9Exp51vbe"
      },
      "outputs": [],
      "execution_count": null
    },
    {
      "cell_type": "markdown",
      "source": [
        "#### Few people have reduced time at large gatherings."
      ],
      "metadata": {
        "id": "4DhZGqq91vbe"
      }
    },
    {
      "cell_type": "code",
      "source": [
        "features.behavioral_outside_home.value_counts()"
      ],
      "metadata": {
        "execution": {
          "iopub.status.busy": "2023-05-19T05:53:50.649068Z",
          "iopub.execute_input": "2023-05-19T05:53:50.649765Z",
          "iopub.status.idle": "2023-05-19T05:53:50.660766Z",
          "shell.execute_reply.started": "2023-05-19T05:53:50.649709Z",
          "shell.execute_reply": "2023-05-19T05:53:50.659495Z"
        },
        "trusted": true,
        "id": "DaKUEe7u1vbe"
      },
      "outputs": [],
      "execution_count": null
    },
    {
      "cell_type": "code",
      "source": [
        "sns.factorplot('behavioral_outside_home', data = features, kind = \"count\")"
      ],
      "metadata": {
        "execution": {
          "iopub.status.busy": "2023-05-19T05:53:50.662396Z",
          "iopub.execute_input": "2023-05-19T05:53:50.662815Z",
          "iopub.status.idle": "2023-05-19T05:53:50.922296Z",
          "shell.execute_reply.started": "2023-05-19T05:53:50.66275Z",
          "shell.execute_reply": "2023-05-19T05:53:50.921151Z"
        },
        "trusted": true,
        "id": "g8m4dLRF1vbf"
      },
      "outputs": [],
      "execution_count": null
    },
    {
      "cell_type": "markdown",
      "source": [
        "#### Only few people have reduced contact with people outside their household."
      ],
      "metadata": {
        "id": "fO45IIzZ1vbf"
      }
    },
    {
      "cell_type": "code",
      "source": [
        "features.behavioral_touch_face.value_counts()"
      ],
      "metadata": {
        "execution": {
          "iopub.status.busy": "2023-05-19T05:53:50.923911Z",
          "iopub.execute_input": "2023-05-19T05:53:50.924297Z",
          "iopub.status.idle": "2023-05-19T05:53:50.935545Z",
          "shell.execute_reply.started": "2023-05-19T05:53:50.924247Z",
          "shell.execute_reply": "2023-05-19T05:53:50.934414Z"
        },
        "trusted": true,
        "id": "1xi_3ryc1vbf"
      },
      "outputs": [],
      "execution_count": null
    },
    {
      "cell_type": "code",
      "source": [
        "sns.factorplot('behavioral_touch_face', data = features, kind = \"count\")"
      ],
      "metadata": {
        "execution": {
          "iopub.status.busy": "2023-05-19T05:53:50.936977Z",
          "iopub.execute_input": "2023-05-19T05:53:50.93738Z",
          "iopub.status.idle": "2023-05-19T05:53:51.224193Z",
          "shell.execute_reply.started": "2023-05-19T05:53:50.937332Z",
          "shell.execute_reply": "2023-05-19T05:53:51.223373Z"
        },
        "trusted": true,
        "id": "NxdJH4ao1vbf"
      },
      "outputs": [],
      "execution_count": null
    },
    {
      "cell_type": "markdown",
      "source": [
        "#### 70% of people have avoided touching eyes, nose, or mouth."
      ],
      "metadata": {
        "id": "OZAVirqV1vbf"
      }
    },
    {
      "cell_type": "code",
      "source": [
        "features.doctor_recc_h1n1.value_counts()"
      ],
      "metadata": {
        "execution": {
          "iopub.status.busy": "2023-05-19T05:53:51.225562Z",
          "iopub.execute_input": "2023-05-19T05:53:51.225864Z",
          "iopub.status.idle": "2023-05-19T05:53:51.236845Z",
          "shell.execute_reply.started": "2023-05-19T05:53:51.225827Z",
          "shell.execute_reply": "2023-05-19T05:53:51.235433Z"
        },
        "trusted": true,
        "id": "zHTSc1pP1vbf"
      },
      "outputs": [],
      "execution_count": null
    },
    {
      "cell_type": "code",
      "source": [
        "sns.factorplot('doctor_recc_h1n1', data = features, kind = \"count\")"
      ],
      "metadata": {
        "execution": {
          "iopub.status.busy": "2023-05-19T05:53:51.238599Z",
          "iopub.execute_input": "2023-05-19T05:53:51.239298Z",
          "iopub.status.idle": "2023-05-19T05:53:51.587505Z",
          "shell.execute_reply.started": "2023-05-19T05:53:51.239242Z",
          "shell.execute_reply": "2023-05-19T05:53:51.586414Z"
        },
        "trusted": true,
        "id": "QWEEcdTw1vbf"
      },
      "outputs": [],
      "execution_count": null
    },
    {
      "cell_type": "markdown",
      "source": [
        "#### Doctors recommended the h1n1 vaccine to only 20% of people."
      ],
      "metadata": {
        "id": "cn9-md0A1vbf"
      }
    },
    {
      "cell_type": "code",
      "source": [
        "features.doctor_recc_seasonal.value_counts()"
      ],
      "metadata": {
        "execution": {
          "iopub.status.busy": "2023-05-19T05:53:51.58932Z",
          "iopub.execute_input": "2023-05-19T05:53:51.589626Z",
          "iopub.status.idle": "2023-05-19T05:53:51.599169Z",
          "shell.execute_reply.started": "2023-05-19T05:53:51.589593Z",
          "shell.execute_reply": "2023-05-19T05:53:51.59829Z"
        },
        "trusted": true,
        "id": "8E9xPvTw1vbf"
      },
      "outputs": [],
      "execution_count": null
    },
    {
      "cell_type": "code",
      "source": [
        "sns.factorplot('doctor_recc_seasonal', data = features, kind = \"count\")"
      ],
      "metadata": {
        "execution": {
          "iopub.status.busy": "2023-05-19T05:53:51.600508Z",
          "iopub.execute_input": "2023-05-19T05:53:51.600806Z",
          "iopub.status.idle": "2023-05-19T05:53:51.99295Z",
          "shell.execute_reply.started": "2023-05-19T05:53:51.60077Z",
          "shell.execute_reply": "2023-05-19T05:53:51.991695Z"
        },
        "trusted": true,
        "id": "eNM00aUp1vbf"
      },
      "outputs": [],
      "execution_count": null
    },
    {
      "cell_type": "markdown",
      "source": [
        "#### Doctors recommended seasonal vaccine to only 30% of people."
      ],
      "metadata": {
        "id": "FYwqYIIK1vbf"
      }
    },
    {
      "cell_type": "code",
      "source": [
        "features.chronic_med_condition .value_counts()"
      ],
      "metadata": {
        "execution": {
          "iopub.status.busy": "2023-05-19T05:53:51.994637Z",
          "iopub.execute_input": "2023-05-19T05:53:51.994924Z",
          "iopub.status.idle": "2023-05-19T05:53:52.009167Z",
          "shell.execute_reply.started": "2023-05-19T05:53:51.994883Z",
          "shell.execute_reply": "2023-05-19T05:53:52.007753Z"
        },
        "trusted": true,
        "id": "m2lQO7tD1vbf"
      },
      "outputs": [],
      "execution_count": null
    },
    {
      "cell_type": "code",
      "source": [
        "sns.factorplot('chronic_med_condition', data = features, kind = \"count\")"
      ],
      "metadata": {
        "execution": {
          "iopub.status.busy": "2023-05-19T05:53:52.011436Z",
          "iopub.execute_input": "2023-05-19T05:53:52.011843Z",
          "iopub.status.idle": "2023-05-19T05:53:52.606849Z",
          "shell.execute_reply.started": "2023-05-19T05:53:52.011794Z",
          "shell.execute_reply": "2023-05-19T05:53:52.605567Z"
        },
        "trusted": true,
        "id": "UlaYm33m1vbf"
      },
      "outputs": [],
      "execution_count": null
    },
    {
      "cell_type": "markdown",
      "source": [
        "#### Only less than 30% of people have chronic medical conditions."
      ],
      "metadata": {
        "id": "-fRXt2O_1vbf"
      }
    },
    {
      "cell_type": "code",
      "source": [
        "features.child_under_6_months.value_counts()"
      ],
      "metadata": {
        "execution": {
          "iopub.status.busy": "2023-05-19T05:53:52.608692Z",
          "iopub.execute_input": "2023-05-19T05:53:52.609023Z",
          "iopub.status.idle": "2023-05-19T05:53:52.618995Z",
          "shell.execute_reply.started": "2023-05-19T05:53:52.608985Z",
          "shell.execute_reply": "2023-05-19T05:53:52.617799Z"
        },
        "trusted": true,
        "id": "uPHZumkl1vbf"
      },
      "outputs": [],
      "execution_count": null
    },
    {
      "cell_type": "code",
      "source": [
        "sns.factorplot('child_under_6_months', data = features, kind = \"count\")"
      ],
      "metadata": {
        "execution": {
          "iopub.status.busy": "2023-05-19T05:53:52.620918Z",
          "iopub.execute_input": "2023-05-19T05:53:52.6212Z",
          "iopub.status.idle": "2023-05-19T05:53:52.951803Z",
          "shell.execute_reply.started": "2023-05-19T05:53:52.621167Z",
          "shell.execute_reply": "2023-05-19T05:53:52.950609Z"
        },
        "trusted": true,
        "id": "Z2OdQzno1vbf"
      },
      "outputs": [],
      "execution_count": null
    },
    {
      "cell_type": "markdown",
      "source": [
        "#### Very few people had close contact with child under 6 months."
      ],
      "metadata": {
        "id": "ll_AvEMx1vbg"
      }
    },
    {
      "cell_type": "code",
      "source": [
        "features.health_worker.value_counts()"
      ],
      "metadata": {
        "execution": {
          "iopub.status.busy": "2023-05-19T05:53:52.953336Z",
          "iopub.execute_input": "2023-05-19T05:53:52.953615Z",
          "iopub.status.idle": "2023-05-19T05:53:52.965565Z",
          "shell.execute_reply.started": "2023-05-19T05:53:52.953582Z",
          "shell.execute_reply": "2023-05-19T05:53:52.96407Z"
        },
        "trusted": true,
        "id": "HB1eWxTd1vbg"
      },
      "outputs": [],
      "execution_count": null
    },
    {
      "cell_type": "code",
      "source": [
        "sns.factorplot('health_worker', data = features, kind = \"count\")"
      ],
      "metadata": {
        "execution": {
          "iopub.status.busy": "2023-05-19T05:53:52.968283Z",
          "iopub.execute_input": "2023-05-19T05:53:52.968712Z",
          "iopub.status.idle": "2023-05-19T05:53:53.311607Z",
          "shell.execute_reply.started": "2023-05-19T05:53:52.968657Z",
          "shell.execute_reply": "2023-05-19T05:53:53.310356Z"
        },
        "trusted": true,
        "id": "MfBu41J-1vbg"
      },
      "outputs": [],
      "execution_count": null
    },
    {
      "cell_type": "markdown",
      "source": [
        "#### Very few people work in healthcare."
      ],
      "metadata": {
        "id": "H9ApWeDf1vbg"
      }
    },
    {
      "cell_type": "code",
      "source": [
        "features.health_insurance.value_counts()"
      ],
      "metadata": {
        "execution": {
          "iopub.status.busy": "2023-05-19T05:53:53.313809Z",
          "iopub.execute_input": "2023-05-19T05:53:53.314323Z",
          "iopub.status.idle": "2023-05-19T05:53:53.324861Z",
          "shell.execute_reply.started": "2023-05-19T05:53:53.314288Z",
          "shell.execute_reply": "2023-05-19T05:53:53.323568Z"
        },
        "trusted": true,
        "id": "GgK91jPk1vbg"
      },
      "outputs": [],
      "execution_count": null
    },
    {
      "cell_type": "code",
      "source": [
        "sns.factorplot('health_insurance', data = features, kind = \"count\")"
      ],
      "metadata": {
        "execution": {
          "iopub.status.busy": "2023-05-19T05:53:53.326646Z",
          "iopub.execute_input": "2023-05-19T05:53:53.327455Z",
          "iopub.status.idle": "2023-05-19T05:53:53.662113Z",
          "shell.execute_reply.started": "2023-05-19T05:53:53.327386Z",
          "shell.execute_reply": "2023-05-19T05:53:53.66114Z"
        },
        "trusted": true,
        "id": "He6T25d51vbg"
      },
      "outputs": [],
      "execution_count": null
    },
    {
      "cell_type": "markdown",
      "source": [
        "#### Almost everyone has health insurance."
      ],
      "metadata": {
        "id": "9HfynOXD1vbg"
      }
    },
    {
      "cell_type": "code",
      "source": [
        "features.opinion_h1n1_vacc_effective.value_counts()"
      ],
      "metadata": {
        "execution": {
          "iopub.status.busy": "2023-05-19T05:53:53.663578Z",
          "iopub.execute_input": "2023-05-19T05:53:53.664005Z",
          "iopub.status.idle": "2023-05-19T05:53:53.674555Z",
          "shell.execute_reply.started": "2023-05-19T05:53:53.663957Z",
          "shell.execute_reply": "2023-05-19T05:53:53.673369Z"
        },
        "trusted": true,
        "id": "8U_UZ7fv1vbg"
      },
      "outputs": [],
      "execution_count": null
    },
    {
      "cell_type": "code",
      "source": [
        "sns.factorplot('opinion_h1n1_vacc_effective', data = features, kind = \"count\")"
      ],
      "metadata": {
        "execution": {
          "iopub.status.busy": "2023-05-19T05:53:53.676228Z",
          "iopub.execute_input": "2023-05-19T05:53:53.676689Z",
          "iopub.status.idle": "2023-05-19T05:53:54.070427Z",
          "shell.execute_reply.started": "2023-05-19T05:53:53.676641Z",
          "shell.execute_reply": "2023-05-19T05:53:54.069148Z"
        },
        "trusted": true,
        "id": "5mucKpqf1vbg"
      },
      "outputs": [],
      "execution_count": null
    },
    {
      "cell_type": "markdown",
      "source": [
        "#### Most of the people think h1n1 is somewhat effective."
      ],
      "metadata": {
        "id": "PSzZMSqI1vbg"
      }
    },
    {
      "cell_type": "code",
      "source": [
        "features.opinion_h1n1_risk.value_counts()"
      ],
      "metadata": {
        "execution": {
          "iopub.status.busy": "2023-05-19T05:53:54.072014Z",
          "iopub.execute_input": "2023-05-19T05:53:54.072295Z",
          "iopub.status.idle": "2023-05-19T05:53:54.083192Z",
          "shell.execute_reply.started": "2023-05-19T05:53:54.07226Z",
          "shell.execute_reply": "2023-05-19T05:53:54.082041Z"
        },
        "trusted": true,
        "id": "UD--a83V1vbg"
      },
      "outputs": [],
      "execution_count": null
    },
    {
      "cell_type": "code",
      "source": [
        "sns.factorplot('opinion_h1n1_risk', data = features, kind = \"count\")"
      ],
      "metadata": {
        "execution": {
          "iopub.status.busy": "2023-05-19T05:53:54.085621Z",
          "iopub.execute_input": "2023-05-19T05:53:54.086023Z",
          "iopub.status.idle": "2023-05-19T05:53:54.478911Z",
          "shell.execute_reply.started": "2023-05-19T05:53:54.085971Z",
          "shell.execute_reply": "2023-05-19T05:53:54.477446Z"
        },
        "trusted": true,
        "id": "35s6U9km1vbg"
      },
      "outputs": [],
      "execution_count": null
    },
    {
      "cell_type": "markdown",
      "source": [
        "#### Most people believe the h1n1 vaccine has somewhat low or very low risk."
      ],
      "metadata": {
        "id": "iX_gBDVP1vbg"
      }
    },
    {
      "cell_type": "code",
      "source": [
        "features.opinion_h1n1_sick_from_vacc.value_counts()"
      ],
      "metadata": {
        "execution": {
          "iopub.status.busy": "2023-05-19T05:53:54.480816Z",
          "iopub.execute_input": "2023-05-19T05:53:54.481925Z",
          "iopub.status.idle": "2023-05-19T05:53:54.492804Z",
          "shell.execute_reply.started": "2023-05-19T05:53:54.48185Z",
          "shell.execute_reply": "2023-05-19T05:53:54.491468Z"
        },
        "trusted": true,
        "id": "HVJBzOgP1vbg"
      },
      "outputs": [],
      "execution_count": null
    },
    {
      "cell_type": "code",
      "source": [
        "sns.factorplot('opinion_h1n1_sick_from_vacc', data = features, kind = \"count\")"
      ],
      "metadata": {
        "execution": {
          "iopub.status.busy": "2023-05-19T05:53:54.494244Z",
          "iopub.execute_input": "2023-05-19T05:53:54.494589Z",
          "iopub.status.idle": "2023-05-19T05:53:54.86318Z",
          "shell.execute_reply.started": "2023-05-19T05:53:54.494553Z",
          "shell.execute_reply": "2023-05-19T05:53:54.862196Z"
        },
        "trusted": true,
        "id": "jdEMSEkU1vbg"
      },
      "outputs": [],
      "execution_count": null
    },
    {
      "cell_type": "markdown",
      "source": [
        "#### Most people are not at all worried or not very worried of getting sick from h1n1 vaccine."
      ],
      "metadata": {
        "id": "Fnuv9XZW1vbg"
      }
    },
    {
      "cell_type": "code",
      "source": [
        "features.opinion_seas_vacc_effective.value_counts()"
      ],
      "metadata": {
        "execution": {
          "iopub.status.busy": "2023-05-19T05:53:54.864439Z",
          "iopub.execute_input": "2023-05-19T05:53:54.864704Z",
          "iopub.status.idle": "2023-05-19T05:53:54.874465Z",
          "shell.execute_reply.started": "2023-05-19T05:53:54.864671Z",
          "shell.execute_reply": "2023-05-19T05:53:54.873502Z"
        },
        "trusted": true,
        "id": "rwEpOnwJ1vbg"
      },
      "outputs": [],
      "execution_count": null
    },
    {
      "cell_type": "code",
      "source": [
        "sns.factorplot('opinion_seas_vacc_effective', data = features, kind = \"count\")"
      ],
      "metadata": {
        "execution": {
          "iopub.status.busy": "2023-05-19T05:53:54.87589Z",
          "iopub.execute_input": "2023-05-19T05:53:54.876169Z",
          "iopub.status.idle": "2023-05-19T05:53:55.243386Z",
          "shell.execute_reply.started": "2023-05-19T05:53:54.876121Z",
          "shell.execute_reply": "2023-05-19T05:53:55.242672Z"
        },
        "trusted": true,
        "id": "IcRvI3nm1vbg"
      },
      "outputs": [],
      "execution_count": null
    },
    {
      "cell_type": "markdown",
      "source": [
        "#### Most people think seasonal vaccine is somewhat or very effective."
      ],
      "metadata": {
        "id": "8QRctRP-1vbg"
      }
    },
    {
      "cell_type": "code",
      "source": [
        "features.opinion_seas_risk.value_counts()"
      ],
      "metadata": {
        "execution": {
          "iopub.status.busy": "2023-05-19T05:53:55.244867Z",
          "iopub.execute_input": "2023-05-19T05:53:55.245373Z",
          "iopub.status.idle": "2023-05-19T05:53:55.254669Z",
          "shell.execute_reply.started": "2023-05-19T05:53:55.24532Z",
          "shell.execute_reply": "2023-05-19T05:53:55.253439Z"
        },
        "trusted": true,
        "id": "cXtmTfFA1vbg"
      },
      "outputs": [],
      "execution_count": null
    },
    {
      "cell_type": "code",
      "source": [
        "sns.factorplot('opinion_seas_risk', data = features, kind = \"count\")"
      ],
      "metadata": {
        "execution": {
          "iopub.status.busy": "2023-05-19T05:53:55.256329Z",
          "iopub.execute_input": "2023-05-19T05:53:55.256689Z",
          "iopub.status.idle": "2023-05-19T05:53:55.622487Z",
          "shell.execute_reply.started": "2023-05-19T05:53:55.256651Z",
          "shell.execute_reply": "2023-05-19T05:53:55.621317Z"
        },
        "trusted": true,
        "id": "bSEOk_PT1vbg"
      },
      "outputs": [],
      "execution_count": null
    },
    {
      "cell_type": "markdown",
      "source": [
        "#### Majority of people think the riske of seasonal vaccine are somewhat low."
      ],
      "metadata": {
        "id": "Jf00_c0w1vbg"
      }
    },
    {
      "cell_type": "code",
      "source": [
        "features.opinion_seas_sick_from_vacc.value_counts()"
      ],
      "metadata": {
        "execution": {
          "iopub.status.busy": "2023-05-19T05:53:55.623833Z",
          "iopub.execute_input": "2023-05-19T05:53:55.624093Z",
          "iopub.status.idle": "2023-05-19T05:53:55.636611Z",
          "shell.execute_reply.started": "2023-05-19T05:53:55.62406Z",
          "shell.execute_reply": "2023-05-19T05:53:55.635557Z"
        },
        "trusted": true,
        "id": "Ga1eWQ1V1vbg"
      },
      "outputs": [],
      "execution_count": null
    },
    {
      "cell_type": "code",
      "source": [
        "sns.factorplot('opinion_seas_sick_from_vacc', data = features, kind = \"count\")"
      ],
      "metadata": {
        "execution": {
          "iopub.status.busy": "2023-05-19T05:53:55.638686Z",
          "iopub.execute_input": "2023-05-19T05:53:55.639467Z",
          "iopub.status.idle": "2023-05-19T05:53:55.996068Z",
          "shell.execute_reply.started": "2023-05-19T05:53:55.63942Z",
          "shell.execute_reply": "2023-05-19T05:53:55.995181Z"
        },
        "trusted": true,
        "id": "35Wsizb21vbh"
      },
      "outputs": [],
      "execution_count": null
    },
    {
      "cell_type": "markdown",
      "source": [
        "#### Majority of people are not at all worried of getting sick from seasonal vaccine."
      ],
      "metadata": {
        "id": "SGKtgdS_1vbh"
      }
    },
    {
      "cell_type": "markdown",
      "source": [
        "## Visualising labels"
      ],
      "metadata": {
        "id": "Wqqc7ojA1vbh"
      }
    },
    {
      "cell_type": "code",
      "source": [
        "sns.factorplot('h1n1_vaccine', data = labels, kind = \"count\")"
      ],
      "metadata": {
        "execution": {
          "iopub.status.busy": "2023-05-19T05:53:55.997669Z",
          "iopub.execute_input": "2023-05-19T05:53:55.997981Z",
          "iopub.status.idle": "2023-05-19T05:53:56.330774Z",
          "shell.execute_reply.started": "2023-05-19T05:53:55.997946Z",
          "shell.execute_reply": "2023-05-19T05:53:56.329805Z"
        },
        "trusted": true,
        "id": "MGzl_nRs1vbh"
      },
      "outputs": [],
      "execution_count": null
    },
    {
      "cell_type": "code",
      "source": [
        "sns.factorplot('seasonal_vaccine', data = labels, kind = \"count\")"
      ],
      "metadata": {
        "execution": {
          "iopub.status.busy": "2023-05-19T05:53:56.33226Z",
          "iopub.execute_input": "2023-05-19T05:53:56.333301Z",
          "iopub.status.idle": "2023-05-19T05:53:56.655327Z",
          "shell.execute_reply.started": "2023-05-19T05:53:56.33326Z",
          "shell.execute_reply": "2023-05-19T05:53:56.654166Z"
        },
        "trusted": true,
        "id": "fi4Cu42T1vbh"
      },
      "outputs": [],
      "execution_count": null
    },
    {
      "cell_type": "markdown",
      "source": [
        "# FEATURE SCALING"
      ],
      "metadata": {
        "id": "WLoyXNkj1vbh"
      }
    },
    {
      "cell_type": "markdown",
      "source": [
        "## Using Min Max scaler"
      ],
      "metadata": {
        "id": "gNsDoROL1vbh"
      }
    },
    {
      "cell_type": "code",
      "source": [
        "scaler = MinMaxScaler()\n",
        "features = scaler.fit_transform(features)"
      ],
      "metadata": {
        "execution": {
          "iopub.status.busy": "2023-05-19T05:53:56.656669Z",
          "iopub.execute_input": "2023-05-19T05:53:56.656913Z",
          "iopub.status.idle": "2023-05-19T05:53:56.679504Z",
          "shell.execute_reply.started": "2023-05-19T05:53:56.656882Z",
          "shell.execute_reply": "2023-05-19T05:53:56.678144Z"
        },
        "trusted": true,
        "id": "RroTrCsL1vbh"
      },
      "outputs": [],
      "execution_count": null
    },
    {
      "cell_type": "code",
      "source": [
        "features = pd.DataFrame(features)\n",
        "col_name = ['respondent_id','h1n1_concern', 'h1n1_knowledge', 'behavioral_antiviral_meds',\n",
        "       'behavioral_avoidance', 'behavioral_face_mask', 'behavioral_wash_hands',\n",
        "       'behavioral_large_gatherings', 'behavioral_outside_home',\n",
        "       'behavioral_touch_face', 'doctor_recc_h1n1', 'doctor_recc_seasonal',\n",
        "       'chronic_med_condition', 'child_under_6_months', 'health_worker',\n",
        "       'health_insurance', 'opinion_h1n1_vacc_effective', 'opinion_h1n1_risk',\n",
        "       'opinion_h1n1_sick_from_vacc', 'opinion_seas_vacc_effective',\n",
        "       'opinion_seas_risk', 'opinion_seas_sick_from_vacc', 'age_group',\n",
        "       'education', 'race', 'sex', 'income_poverty', 'marital_status',\n",
        "       'rent_or_own', 'employment_status', 'hhs_geo_region', 'census_msa',\n",
        "       'household_adults', 'household_children', 'employment_industry',\n",
        "       'employment_occupation']\n",
        "features.columns = col_name"
      ],
      "metadata": {
        "execution": {
          "iopub.status.busy": "2023-05-19T05:53:56.680815Z",
          "iopub.execute_input": "2023-05-19T05:53:56.68107Z",
          "iopub.status.idle": "2023-05-19T05:53:56.689985Z",
          "shell.execute_reply.started": "2023-05-19T05:53:56.681039Z",
          "shell.execute_reply": "2023-05-19T05:53:56.688774Z"
        },
        "trusted": true,
        "id": "hvWXvym31vbh"
      },
      "outputs": [],
      "execution_count": null
    },
    {
      "cell_type": "markdown",
      "source": [
        "# FEATURE SELECTION"
      ],
      "metadata": {
        "id": "ZyGOhppy1vbh"
      }
    },
    {
      "cell_type": "markdown",
      "source": [
        "## Independent and target variables"
      ],
      "metadata": {
        "id": "z4LmpbPH1vbh"
      }
    },
    {
      "cell_type": "code",
      "source": [
        "X = features\n",
        "y = labels"
      ],
      "metadata": {
        "execution": {
          "iopub.status.busy": "2023-05-19T05:53:56.692046Z",
          "iopub.execute_input": "2023-05-19T05:53:56.692472Z",
          "iopub.status.idle": "2023-05-19T05:53:56.705437Z",
          "shell.execute_reply.started": "2023-05-19T05:53:56.692418Z",
          "shell.execute_reply": "2023-05-19T05:53:56.704627Z"
        },
        "trusted": true,
        "id": "IWzs1sk71vbh"
      },
      "outputs": [],
      "execution_count": null
    },
    {
      "cell_type": "markdown",
      "source": [
        "## Applying SelectKBest class"
      ],
      "metadata": {
        "id": "_JqAEi5w1vbh"
      }
    },
    {
      "cell_type": "code",
      "source": [
        "bestfeatures = SelectKBest(score_func=chi2, k=30)"
      ],
      "metadata": {
        "execution": {
          "iopub.status.busy": "2023-05-19T05:53:56.706862Z",
          "iopub.execute_input": "2023-05-19T05:53:56.707562Z",
          "iopub.status.idle": "2023-05-19T05:53:56.719667Z",
          "shell.execute_reply.started": "2023-05-19T05:53:56.707506Z",
          "shell.execute_reply": "2023-05-19T05:53:56.718274Z"
        },
        "trusted": true,
        "id": "VEAJmcOO1vbj"
      },
      "outputs": [],
      "execution_count": null
    },
    {
      "cell_type": "code",
      "source": [
        "fit = bestfeatures.fit(X,y)"
      ],
      "metadata": {
        "execution": {
          "iopub.status.busy": "2023-05-19T05:53:56.72197Z",
          "iopub.execute_input": "2023-05-19T05:53:56.722415Z",
          "iopub.status.idle": "2023-05-19T05:53:56.755511Z",
          "shell.execute_reply.started": "2023-05-19T05:53:56.722335Z",
          "shell.execute_reply": "2023-05-19T05:53:56.754196Z"
        },
        "trusted": true,
        "id": "jsYzPBNs1vbj"
      },
      "outputs": [],
      "execution_count": null
    },
    {
      "cell_type": "code",
      "source": [
        "dfscores = pd.DataFrame(fit.scores_)\n",
        "dfcolumns = pd.DataFrame(X.columns)\n",
        "\n",
        "#concat two dataframes for better visualization\n",
        "\n",
        "featureScores = pd.concat([dfcolumns,dfscores],axis=1)\n",
        "featureScores.columns = ['Specs','Score']\n",
        "\n",
        "print(featureScores.nlargest(25,'Score'))"
      ],
      "metadata": {
        "execution": {
          "iopub.status.busy": "2023-05-19T05:53:56.75797Z",
          "iopub.execute_input": "2023-05-19T05:53:56.758727Z",
          "iopub.status.idle": "2023-05-19T05:53:56.784081Z",
          "shell.execute_reply.started": "2023-05-19T05:53:56.758655Z",
          "shell.execute_reply": "2023-05-19T05:53:56.782909Z"
        },
        "trusted": true,
        "id": "NzA7SFkT1vbj"
      },
      "outputs": [],
      "execution_count": null
    },
    {
      "cell_type": "code",
      "source": [
        "features_kbest = features.iloc[:,[9,10,19,16,13,11,21,18,15,34,0,33,32,8,12,1,24,5,26,17,6,3,7,2,4]]"
      ],
      "metadata": {
        "execution": {
          "iopub.status.busy": "2023-05-19T05:53:56.786242Z",
          "iopub.execute_input": "2023-05-19T05:53:56.786961Z",
          "iopub.status.idle": "2023-05-19T05:53:56.799724Z",
          "shell.execute_reply.started": "2023-05-19T05:53:56.786894Z",
          "shell.execute_reply": "2023-05-19T05:53:56.798106Z"
        },
        "trusted": true,
        "id": "KY_hYGP71vbk"
      },
      "outputs": [],
      "execution_count": null
    },
    {
      "cell_type": "markdown",
      "source": [
        "## Feature importance using ExtraTrees Classifier"
      ],
      "metadata": {
        "id": "zXbXqqBT1vbk"
      }
    },
    {
      "cell_type": "code",
      "source": [
        "model = ExtraTreesClassifier()\n",
        "model.fit(X,y)\n",
        "print(model.feature_importances_)\n",
        "plt.figure(figsize=(10,10))\n",
        "feat_importances = pd.Series(model.feature_importances_, index=X.columns)\n",
        "feat_importances.nlargest(25).plot(kind='barh')\n",
        "plt.show()"
      ],
      "metadata": {
        "execution": {
          "iopub.status.busy": "2023-05-19T05:53:56.817877Z",
          "iopub.execute_input": "2023-05-19T05:53:56.818665Z",
          "iopub.status.idle": "2023-05-19T05:54:04.96075Z",
          "shell.execute_reply.started": "2023-05-19T05:53:56.818601Z",
          "shell.execute_reply": "2023-05-19T05:54:04.960031Z"
        },
        "trusted": true,
        "id": "DUlcem_W1vbk"
      },
      "outputs": [],
      "execution_count": null
    },
    {
      "cell_type": "code",
      "source": [
        "features_tree = features.loc[:,['opinion_seas_risk','doctor_recc_seasonal','opinion_seas_vacc_effective',\n",
        "                                 'doctor_recc_h1n1','age_group','opinion_h1n1_risk','hhs_geo_region',\n",
        "                                 'opinion_h1n1_vacc_effective','h1n1_concern','opinion_seas_sick_from_vacc',\n",
        "                                 'opinion_h1n1_sick_from_vacc','census_msa','education','income_poverty',\n",
        "                                 'h1n1_knowledge','household_adults','employment_occupation',\n",
        "                                 'employment_industry','household_children','sex','race','marital_status',\n",
        "                                 'rent_or_own','behavioral_outside_home','behavioral_large_gatherings']]"
      ],
      "metadata": {
        "execution": {
          "iopub.status.busy": "2023-05-19T05:54:04.962065Z",
          "iopub.execute_input": "2023-05-19T05:54:04.962525Z",
          "iopub.status.idle": "2023-05-19T05:54:04.972586Z",
          "shell.execute_reply.started": "2023-05-19T05:54:04.962473Z",
          "shell.execute_reply": "2023-05-19T05:54:04.971822Z"
        },
        "trusted": true,
        "id": "IadRH-gX1vbk"
      },
      "outputs": [],
      "execution_count": null
    },
    {
      "cell_type": "markdown",
      "source": [
        "## Correlation Matrix using Heatmap"
      ],
      "metadata": {
        "id": "ctChhDOH1vbk"
      }
    },
    {
      "cell_type": "code",
      "source": [
        "features.corrwith(labels.h1n1_vaccine)"
      ],
      "metadata": {
        "execution": {
          "iopub.status.busy": "2023-05-19T05:54:04.973891Z",
          "iopub.execute_input": "2023-05-19T05:54:04.975269Z",
          "iopub.status.idle": "2023-05-19T05:54:05.015683Z",
          "shell.execute_reply.started": "2023-05-19T05:54:04.975184Z",
          "shell.execute_reply": "2023-05-19T05:54:05.014963Z"
        },
        "trusted": true,
        "id": "sfNlgQpM1vbk"
      },
      "outputs": [],
      "execution_count": null
    },
    {
      "cell_type": "code",
      "source": [
        "features.corrwith(labels.seasonal_vaccine)"
      ],
      "metadata": {
        "execution": {
          "iopub.status.busy": "2023-05-19T05:54:05.016946Z",
          "iopub.execute_input": "2023-05-19T05:54:05.017879Z",
          "iopub.status.idle": "2023-05-19T05:54:05.055271Z",
          "shell.execute_reply.started": "2023-05-19T05:54:05.017838Z",
          "shell.execute_reply": "2023-05-19T05:54:05.054256Z"
        },
        "trusted": true,
        "id": "dytfhFuf1vbk"
      },
      "outputs": [],
      "execution_count": null
    },
    {
      "cell_type": "code",
      "source": [
        "#get correlations of each features in dataset\n",
        "corrmat = features.corr()\n",
        "top_corr_features = corrmat.index\n",
        "plt.figure(figsize=(20,20))\n",
        "#plot heat map\n",
        "g=sns.heatmap(features[top_corr_features].corr(),annot=True,cmap=\"Blues\")"
      ],
      "metadata": {
        "execution": {
          "iopub.status.busy": "2023-05-19T05:54:05.056947Z",
          "iopub.execute_input": "2023-05-19T05:54:05.057221Z",
          "iopub.status.idle": "2023-05-19T05:54:13.773784Z",
          "shell.execute_reply.started": "2023-05-19T05:54:05.057187Z",
          "shell.execute_reply": "2023-05-19T05:54:13.772548Z"
        },
        "trusted": true,
        "id": "V-IvdDwf1vbk"
      },
      "outputs": [],
      "execution_count": null
    },
    {
      "cell_type": "code",
      "source": [
        "features.drop(['opinion_seas_sick_from_vacc','hhs_geo_region','census_msa',\n",
        "               'household_adults','household_children','behavioral_antiviral_meds',\n",
        "               'education'], axis = 1, inplace = True)"
      ],
      "metadata": {
        "execution": {
          "iopub.status.busy": "2023-05-19T05:54:13.775557Z",
          "iopub.execute_input": "2023-05-19T05:54:13.775983Z",
          "iopub.status.idle": "2023-05-19T05:54:13.784216Z",
          "shell.execute_reply.started": "2023-05-19T05:54:13.775916Z",
          "shell.execute_reply": "2023-05-19T05:54:13.783181Z"
        },
        "trusted": true,
        "id": "F8Dsx8q71vbk"
      },
      "outputs": [],
      "execution_count": null
    },
    {
      "cell_type": "markdown",
      "source": [
        "# MODEL"
      ],
      "metadata": {
        "id": "IMssE0v51vbk"
      }
    },
    {
      "cell_type": "markdown",
      "source": [
        "## Defining independent and dependent variables"
      ],
      "metadata": {
        "id": "GybbEGu81vbk"
      }
    },
    {
      "cell_type": "code",
      "source": [
        "X = features\n",
        "y = labels"
      ],
      "metadata": {
        "execution": {
          "iopub.status.busy": "2023-05-19T05:54:13.785857Z",
          "iopub.execute_input": "2023-05-19T05:54:13.786115Z",
          "iopub.status.idle": "2023-05-19T05:54:13.799521Z",
          "shell.execute_reply.started": "2023-05-19T05:54:13.786084Z",
          "shell.execute_reply": "2023-05-19T05:54:13.798137Z"
        },
        "trusted": true,
        "id": "5KrYfg9i1vbk"
      },
      "outputs": [],
      "execution_count": null
    },
    {
      "cell_type": "code",
      "source": [
        "X"
      ],
      "metadata": {
        "execution": {
          "iopub.status.busy": "2023-05-19T05:54:13.801126Z",
          "iopub.execute_input": "2023-05-19T05:54:13.801394Z",
          "iopub.status.idle": "2023-05-19T05:54:13.8549Z",
          "shell.execute_reply.started": "2023-05-19T05:54:13.801362Z",
          "shell.execute_reply": "2023-05-19T05:54:13.853745Z"
        },
        "trusted": true,
        "id": "x2wyGpY91vbk"
      },
      "outputs": [],
      "execution_count": null
    },
    {
      "cell_type": "code",
      "source": [
        "y"
      ],
      "metadata": {
        "execution": {
          "iopub.status.busy": "2023-05-19T05:54:13.856905Z",
          "iopub.execute_input": "2023-05-19T05:54:13.857174Z",
          "iopub.status.idle": "2023-05-19T05:54:13.871094Z",
          "shell.execute_reply.started": "2023-05-19T05:54:13.857141Z",
          "shell.execute_reply": "2023-05-19T05:54:13.869745Z"
        },
        "trusted": true,
        "id": "oQ4DF0T31vbk"
      },
      "outputs": [],
      "execution_count": null
    },
    {
      "cell_type": "markdown",
      "source": [
        "## Splitting the data into training and testing data"
      ],
      "metadata": {
        "id": "rW3og-Xi1vbk"
      }
    },
    {
      "cell_type": "code",
      "source": [
        "x_train, x_test, y_train, y_test = train_test_split(X,y,test_size=0.3, random_state=23)"
      ],
      "metadata": {
        "execution": {
          "iopub.status.busy": "2023-05-19T05:54:13.872376Z",
          "iopub.execute_input": "2023-05-19T05:54:13.872612Z",
          "iopub.status.idle": "2023-05-19T05:54:13.897128Z",
          "shell.execute_reply.started": "2023-05-19T05:54:13.872583Z",
          "shell.execute_reply": "2023-05-19T05:54:13.896024Z"
        },
        "trusted": true,
        "id": "mxIJBlW21vbk"
      },
      "outputs": [],
      "execution_count": null
    },
    {
      "cell_type": "markdown",
      "source": [
        "## Using Binary Relevance - Naive Bayes"
      ],
      "metadata": {
        "id": "nvBBrOqj1vbk"
      }
    },
    {
      "cell_type": "code",
      "source": [
        "# Gaussian Naive Bayes\n",
        "\n",
        "# Initializing\n",
        "\n",
        "model_BR_GNB = BinaryRelevance(GaussianNB())\n",
        "\n",
        "# Training\n",
        "\n",
        "model_BR_GNB.fit(x_train,y_train)\n",
        "\n",
        "# Predicting\n",
        "\n",
        "y_pred_BR_GNB = model_BR_GNB.predict(x_test)\n",
        "\n",
        "# Testing\n",
        "\n",
        "BR_GNB = accuracy_score(y_test,y_pred_BR_GNB)\n",
        "BR_GNB"
      ],
      "metadata": {
        "execution": {
          "iopub.status.busy": "2023-05-19T05:54:13.89919Z",
          "iopub.execute_input": "2023-05-19T05:54:13.900413Z",
          "iopub.status.idle": "2023-05-19T05:54:13.997255Z",
          "shell.execute_reply.started": "2023-05-19T05:54:13.900359Z",
          "shell.execute_reply": "2023-05-19T05:54:13.996052Z"
        },
        "trusted": true,
        "id": "DkIdhOwj1vbk"
      },
      "outputs": [],
      "execution_count": null
    },
    {
      "cell_type": "markdown",
      "source": [
        "## Using Binary Relevance - Decision Tree"
      ],
      "metadata": {
        "id": "-2_d75TQ1vbl"
      }
    },
    {
      "cell_type": "code",
      "source": [
        "# Initializing\n",
        "\n",
        "model_BR_DT = BinaryRelevance(DecisionTreeClassifier())\n",
        "\n",
        "# Training\n",
        "\n",
        "model_BR_DT.fit(x_train,y_train)\n",
        "\n",
        "# Predicting\n",
        "\n",
        "y_pred_BR_DT = model_BR_DT.predict(x_test)\n",
        "\n",
        "# Testing\n",
        "\n",
        "BR_DT = accuracy_score(y_test,y_pred_BR_DT)\n",
        "BR_DT"
      ],
      "metadata": {
        "execution": {
          "iopub.status.busy": "2023-05-19T05:54:13.999263Z",
          "iopub.execute_input": "2023-05-19T05:54:13.999581Z",
          "iopub.status.idle": "2023-05-19T05:54:14.395623Z",
          "shell.execute_reply.started": "2023-05-19T05:54:13.999537Z",
          "shell.execute_reply": "2023-05-19T05:54:14.394663Z"
        },
        "trusted": true,
        "id": "sFqEcTQG1vbl"
      },
      "outputs": [],
      "execution_count": null
    },
    {
      "cell_type": "markdown",
      "source": [
        "## Using Binary Relevance - Logistic Regression"
      ],
      "metadata": {
        "id": "QeBAco9y1vbl"
      }
    },
    {
      "cell_type": "code",
      "source": [
        "# Initializing\n",
        "\n",
        "model_BR_LR = BinaryRelevance(LogisticRegression())\n",
        "\n",
        "# Training\n",
        "\n",
        "model_BR_LR.fit(x_train,y_train)\n",
        "\n",
        "# Predicting\n",
        "\n",
        "y_pred_BR_LR = model_BR_LR.predict(x_test)\n",
        "\n",
        "# Testing\n",
        "\n",
        "BR_LR = accuracy_score(y_test,y_pred_BR_LR)\n",
        "BR_LR"
      ],
      "metadata": {
        "execution": {
          "iopub.status.busy": "2023-05-19T05:54:14.397104Z",
          "iopub.execute_input": "2023-05-19T05:54:14.397665Z",
          "iopub.status.idle": "2023-05-19T05:54:15.047571Z",
          "shell.execute_reply.started": "2023-05-19T05:54:14.397606Z",
          "shell.execute_reply": "2023-05-19T05:54:15.046362Z"
        },
        "trusted": true,
        "id": "Yy44FUFk1vbl"
      },
      "outputs": [],
      "execution_count": null
    },
    {
      "cell_type": "markdown",
      "source": [
        "## Using Classifier Chains - Naive Bayes"
      ],
      "metadata": {
        "id": "MvB-cd6n1vbl"
      }
    },
    {
      "cell_type": "code",
      "source": [
        "# Gaussian Naive Bayes\n",
        "\n",
        "# Initializing\n",
        "\n",
        "model_CC_GNB = ClassifierChain(GaussianNB())\n",
        "\n",
        "# Training\n",
        "\n",
        "model_CC_GNB.fit(x_train,y_train)\n",
        "\n",
        "# Predicting\n",
        "\n",
        "y_pred_CC_GNB = model_CC_GNB.predict(x_test)\n",
        "\n",
        "# Testing\n",
        "\n",
        "CC_GNB = accuracy_score(y_test,y_pred_CC_GNB)\n",
        "CC_GNB"
      ],
      "metadata": {
        "execution": {
          "iopub.status.busy": "2023-05-19T05:54:15.0501Z",
          "iopub.execute_input": "2023-05-19T05:54:15.050974Z",
          "iopub.status.idle": "2023-05-19T05:54:15.190199Z",
          "shell.execute_reply.started": "2023-05-19T05:54:15.050907Z",
          "shell.execute_reply": "2023-05-19T05:54:15.18921Z"
        },
        "trusted": true,
        "id": "Bl12R-AU1vbl"
      },
      "outputs": [],
      "execution_count": null
    },
    {
      "cell_type": "markdown",
      "source": [
        "## Using Classifier Chains - Decision Tree"
      ],
      "metadata": {
        "id": "l5I0wTw51vbl"
      }
    },
    {
      "cell_type": "code",
      "source": [
        "# Initializing\n",
        "\n",
        "model_CC_DT = ClassifierChain(DecisionTreeClassifier())\n",
        "\n",
        "# Training\n",
        "\n",
        "model_CC_DT.fit(x_train,y_train)\n",
        "\n",
        "# Predicting\n",
        "\n",
        "y_pred_CC_DT = model_CC_DT.predict(x_test)\n",
        "\n",
        "# Testing\n",
        "\n",
        "CC_DT = accuracy_score(y_test,y_pred_CC_DT)\n",
        "CC_DT"
      ],
      "metadata": {
        "execution": {
          "iopub.status.busy": "2023-05-19T05:54:15.191544Z",
          "iopub.execute_input": "2023-05-19T05:54:15.191851Z",
          "iopub.status.idle": "2023-05-19T05:54:15.587008Z",
          "shell.execute_reply.started": "2023-05-19T05:54:15.191808Z",
          "shell.execute_reply": "2023-05-19T05:54:15.585943Z"
        },
        "trusted": true,
        "id": "SkxeDFDy1vbl"
      },
      "outputs": [],
      "execution_count": null
    },
    {
      "cell_type": "markdown",
      "source": [
        "## Using Classifier Chains - Logistic Regression"
      ],
      "metadata": {
        "id": "NHYiA0Yj1vbl"
      }
    },
    {
      "cell_type": "code",
      "source": [
        "# Initializing\n",
        "\n",
        "model_CC_LR = ClassifierChain(LogisticRegression())\n",
        "\n",
        "# Training\n",
        "\n",
        "model_CC_LR.fit(x_train,y_train)\n",
        "\n",
        "# Predicting\n",
        "\n",
        "y_pred_CC_LR = model_CC_LR.predict(x_test)\n",
        "\n",
        "# Testing\n",
        "\n",
        "CC_LR = accuracy_score(y_test,y_pred_CC_LR)\n",
        "CC_LR"
      ],
      "metadata": {
        "execution": {
          "iopub.status.busy": "2023-05-19T05:54:15.588478Z",
          "iopub.execute_input": "2023-05-19T05:54:15.588872Z",
          "iopub.status.idle": "2023-05-19T05:54:16.262679Z",
          "shell.execute_reply.started": "2023-05-19T05:54:15.588827Z",
          "shell.execute_reply": "2023-05-19T05:54:16.261419Z"
        },
        "trusted": true,
        "id": "p9yXbX5L1vbl"
      },
      "outputs": [],
      "execution_count": null
    },
    {
      "cell_type": "markdown",
      "source": [
        "## Using Label Powerset - Naive Bayes"
      ],
      "metadata": {
        "id": "aEeYxzCy1vbl"
      }
    },
    {
      "cell_type": "code",
      "source": [
        "# Gaussian Naive Bayes\n",
        "\n",
        "# Initializing\n",
        "\n",
        "model_LP_GNB = LabelPowerset(GaussianNB())\n",
        "\n",
        "# Training\n",
        "\n",
        "model_LP_GNB.fit(x_train,y_train)\n",
        "\n",
        "# Predicting\n",
        "\n",
        "y_pred_LP_GNB = model_LP_GNB.predict(x_test)\n",
        "\n",
        "# Testing\n",
        "\n",
        "LP_GNB = accuracy_score(y_test,y_pred_LP_GNB)\n",
        "LP_GNB"
      ],
      "metadata": {
        "execution": {
          "iopub.status.busy": "2023-05-19T05:54:16.264801Z",
          "iopub.execute_input": "2023-05-19T05:54:16.265764Z",
          "iopub.status.idle": "2023-05-19T05:54:17.475577Z",
          "shell.execute_reply.started": "2023-05-19T05:54:16.265696Z",
          "shell.execute_reply": "2023-05-19T05:54:17.474619Z"
        },
        "trusted": true,
        "id": "tgk46UGD1vbl"
      },
      "outputs": [],
      "execution_count": null
    },
    {
      "cell_type": "markdown",
      "source": [
        "## Using Label Powerset - Decision Tree"
      ],
      "metadata": {
        "id": "uLkmhby01vbl"
      }
    },
    {
      "cell_type": "code",
      "source": [
        "# Initializing\n",
        "\n",
        "model_LP_DT = LabelPowerset(DecisionTreeClassifier())\n",
        "\n",
        "# Training\n",
        "\n",
        "model_LP_DT.fit(x_train,y_train)\n",
        "\n",
        "# Predicting\n",
        "\n",
        "y_pred_LP_DT = model_LP_DT.predict(x_test)\n",
        "\n",
        "# Testing\n",
        "\n",
        "LP_DT = accuracy_score(y_test,y_pred_LP_DT)\n",
        "LP_DT"
      ],
      "metadata": {
        "execution": {
          "iopub.status.busy": "2023-05-19T05:54:17.477097Z",
          "iopub.execute_input": "2023-05-19T05:54:17.478254Z",
          "iopub.status.idle": "2023-05-19T05:54:18.489448Z",
          "shell.execute_reply.started": "2023-05-19T05:54:17.478192Z",
          "shell.execute_reply": "2023-05-19T05:54:18.488686Z"
        },
        "trusted": true,
        "id": "mpcO8px91vbl"
      },
      "outputs": [],
      "execution_count": null
    },
    {
      "cell_type": "markdown",
      "source": [
        "## Random Forest"
      ],
      "metadata": {
        "id": "aVeVhiwD1vbl"
      }
    },
    {
      "cell_type": "code",
      "source": [
        "# Initializing\n",
        "\n",
        "model_RF = RandomForestClassifier()\n",
        "\n",
        "# Training\n",
        "\n",
        "model_RF.fit(x_train,y_train)\n",
        "\n",
        "# Predicting\n",
        "\n",
        "y_pred_RF = model_RF.predict(x_test)\n",
        "\n",
        "# Testing\n",
        "RF = accuracy_score(y_test,y_pred_RF)\n",
        "RF"
      ],
      "metadata": {
        "execution": {
          "iopub.status.busy": "2023-05-19T05:54:18.491012Z",
          "iopub.execute_input": "2023-05-19T05:54:18.491541Z",
          "iopub.status.idle": "2023-05-19T05:54:23.004323Z",
          "shell.execute_reply.started": "2023-05-19T05:54:18.491501Z",
          "shell.execute_reply": "2023-05-19T05:54:23.002966Z"
        },
        "trusted": true,
        "id": "8Ozr7x-71vbl"
      },
      "outputs": [],
      "execution_count": null
    },
    {
      "cell_type": "markdown",
      "source": [
        "# MODEL EVALUATION"
      ],
      "metadata": {
        "id": "0ojjHbKj1vbl"
      }
    },
    {
      "cell_type": "markdown",
      "source": [
        "## Accuracy score comparison chart"
      ],
      "metadata": {
        "id": "7BJs3xjq1vbl"
      }
    },
    {
      "cell_type": "code",
      "source": [
        "Accuracy_Score = [BR_GNB,BR_DT,BR_LR,CC_GNB,CC_DT,CC_LR,LP_GNB,LP_DT,RF]\n",
        "Models = ['BR Naive Bayes', 'BR Decision Tree' , 'BR Logistic Regression', 'CC Naive Bayes',\n",
        "          'CC Decision Tree', 'CC Logistic Regression', 'LP Naive Bayes', 'LP Decision Tree','Random Forest']"
      ],
      "metadata": {
        "execution": {
          "iopub.status.busy": "2023-05-19T05:54:23.006264Z",
          "iopub.execute_input": "2023-05-19T05:54:23.006597Z",
          "iopub.status.idle": "2023-05-19T05:54:23.012265Z",
          "shell.execute_reply.started": "2023-05-19T05:54:23.006561Z",
          "shell.execute_reply": "2023-05-19T05:54:23.011376Z"
        },
        "trusted": true,
        "id": "etyUN-Df1vbl"
      },
      "outputs": [],
      "execution_count": null
    },
    {
      "cell_type": "code",
      "source": [
        "sns.barplot(Accuracy_Score, Models, color=\"m\")\n",
        "plt.xlabel('Accuracy Score')\n",
        "plt.title('Accuracy Score')\n",
        "plt.show()"
      ],
      "metadata": {
        "execution": {
          "iopub.status.busy": "2023-05-19T05:54:23.013704Z",
          "iopub.execute_input": "2023-05-19T05:54:23.014115Z",
          "iopub.status.idle": "2023-05-19T05:54:23.274631Z",
          "shell.execute_reply.started": "2023-05-19T05:54:23.01395Z",
          "shell.execute_reply": "2023-05-19T05:54:23.273435Z"
        },
        "trusted": true,
        "id": "wUqWdkHO1vbm"
      },
      "outputs": [],
      "execution_count": null
    },
    {
      "cell_type": "markdown",
      "source": [
        "#### RANDOM FOREST HAS THE HIGHEST ACCURACY SCORE"
      ],
      "metadata": {
        "id": "tVne996w1vbm"
      }
    }
  ]
}