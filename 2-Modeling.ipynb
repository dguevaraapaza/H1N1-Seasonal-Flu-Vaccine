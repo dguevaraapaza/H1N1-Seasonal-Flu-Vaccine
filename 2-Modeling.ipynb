{
 "cells": [
  {
   "cell_type": "markdown",
   "metadata": {
    "colab_type": "text",
    "id": "view-in-github"
   },
   "source": [
    "<a href=\"https://colab.research.google.com/github/dguevaraapaza/H1N1-Seasonal-Flu-Vaccine/blob/main/H1N1_and_seasonal_flu_vaccines.ipynb\" target=\"_parent\"><img src=\"https://colab.research.google.com/assets/colab-badge.svg\" alt=\"Open In Colab\"/></a>"
   ]
  },
  {
   "cell_type": "markdown",
   "metadata": {
    "id": "5X6SmTyL1vbU"
   },
   "source": [
    "# Vaccination Prediction\n",
    "\n",
    "\n",
    "> **Goal:** Predict how likely individuals are to receive their H1N1 and seasonal flu vaccines. In specific, the target is to predict two probabilities: one for h1n1_vaccine and one for seasonal_vaccine.\n",
    "\n",
    "**This is a multi-label classification problem.**"
   ]
  },
  {
   "cell_type": "code",
   "execution_count": 1,
   "metadata": {},
   "outputs": [],
   "source": [
    "# !pip install -q pandas\n",
    "# !pip install -q numpy\n",
    "# !pip install -q matplotlib\n",
    "# !pip install -q scikit-learn\n",
    "# !pip install -q seaborn\n",
    "# !pip install -q missingno\n",
    "# !pip install -q fancyimpute"
   ]
  },
  {
   "cell_type": "code",
   "execution_count": 2,
   "metadata": {
    "execution": {
     "iopub.execute_input": "2024-11-07T05:50:38.060414Z",
     "iopub.status.busy": "2024-11-07T05:50:38.059826Z",
     "iopub.status.idle": "2024-11-07T05:50:38.071921Z",
     "shell.execute_reply": "2024-11-07T05:50:38.070253Z",
     "shell.execute_reply.started": "2024-11-07T05:50:38.060357Z"
    },
    "id": "VM3-FKon1vbV",
    "trusted": true
   },
   "outputs": [],
   "source": [
    "# # Installing the required packages\n",
    "# !pip install scikit-multilearn\n",
    "\n",
    "# Libraries for Problem Transformation\n",
    "# from skmultilearn.problem_transform import BinaryRelevance\n",
    "# from skmultilearn.problem_transform import ClassifierChain\n",
    "# from skmultilearn.problem_transform import LabelPowerset"
   ]
  },
  {
   "cell_type": "code",
   "execution_count": 2,
   "metadata": {
    "execution": {
     "iopub.execute_input": "2024-11-07T05:52:39.612407Z",
     "iopub.status.busy": "2024-11-07T05:52:39.611938Z",
     "iopub.status.idle": "2024-11-07T05:52:39.632319Z",
     "shell.execute_reply": "2024-11-07T05:52:39.630661Z",
     "shell.execute_reply.started": "2024-11-07T05:52:39.612350Z"
    },
    "id": "tbCRWV6o1vbW",
    "trusted": true
   },
   "outputs": [],
   "source": [
    "import pandas as pd\n",
    "import numpy as np\n",
    "import matplotlib.pyplot as plt\n",
    "import seaborn as sns\n",
    "\n",
    "# Libraries for Feature Selection\n",
    "from sklearn.feature_selection import SelectKBest\n",
    "from sklearn.feature_selection import chi2\n",
    "from sklearn.ensemble import ExtraTreesClassifier\n",
    "from sklearn.decomposition import PCA\n",
    "\n",
    "# Libraries for model training\n",
    "from sklearn.preprocessing import MinMaxScaler, LabelEncoder\n",
    "from sklearn.model_selection import train_test_split , GridSearchCV , cross_val_score\n",
    "\n",
    "# Libraries for algorithm\n",
    "from sklearn.linear_model import LogisticRegression\n",
    "from sklearn.tree import DecisionTreeClassifier\n",
    "from sklearn.naive_bayes import GaussianNB\n",
    "from sklearn.ensemble import RandomForestClassifier\n",
    "\n",
    "# Impute binary data\n",
    "from fancyimpute import IterativeImputer\n",
    "\n",
    "# Libraries for testing\n",
    "from sklearn.metrics import accuracy_score , classification_report\n",
    "\n",
    "# Removing warnings\n",
    "import warnings\n",
    "warnings.filterwarnings('ignore')\n",
    "\n",
    "#Check missing values\n",
    "import missingno as msno\n",
    "\n",
    "# Storing plots\n",
    "%matplotlib inline"
   ]
  },
  {
   "cell_type": "code",
   "execution_count": 3,
   "metadata": {
    "execution": {
     "iopub.execute_input": "2024-11-07T05:50:39.843286Z",
     "iopub.status.busy": "2024-11-07T05:50:39.842586Z",
     "iopub.status.idle": "2024-11-07T05:50:40.177740Z",
     "shell.execute_reply": "2024-11-07T05:50:40.176205Z",
     "shell.execute_reply.started": "2024-11-07T05:50:39.843251Z"
    },
    "id": "07iqAiBI1vbW",
    "trusted": true
   },
   "outputs": [
    {
     "data": {
      "text/html": [
       "<div>\n",
       "<style scoped>\n",
       "    .dataframe tbody tr th:only-of-type {\n",
       "        vertical-align: middle;\n",
       "    }\n",
       "\n",
       "    .dataframe tbody tr th {\n",
       "        vertical-align: top;\n",
       "    }\n",
       "\n",
       "    .dataframe thead th {\n",
       "        text-align: right;\n",
       "    }\n",
       "</style>\n",
       "<table border=\"1\" class=\"dataframe\">\n",
       "  <thead>\n",
       "    <tr style=\"text-align: right;\">\n",
       "      <th></th>\n",
       "      <th>h1n1_concern</th>\n",
       "      <th>h1n1_knowledge</th>\n",
       "      <th>behavioral_antiviral_meds</th>\n",
       "      <th>behavioral_avoidance</th>\n",
       "      <th>behavioral_face_mask</th>\n",
       "      <th>behavioral_wash_hands</th>\n",
       "      <th>behavioral_large_gatherings</th>\n",
       "      <th>behavioral_outside_home</th>\n",
       "      <th>behavioral_touch_face</th>\n",
       "      <th>doctor_recc_h1n1</th>\n",
       "      <th>...</th>\n",
       "      <th>income_poverty</th>\n",
       "      <th>marital_status</th>\n",
       "      <th>rent_or_own</th>\n",
       "      <th>employment_status</th>\n",
       "      <th>hhs_geo_region</th>\n",
       "      <th>census_msa</th>\n",
       "      <th>household_adults</th>\n",
       "      <th>household_children</th>\n",
       "      <th>h1n1_vaccine</th>\n",
       "      <th>seasonal_vaccine</th>\n",
       "    </tr>\n",
       "    <tr>\n",
       "      <th>respondent_id</th>\n",
       "      <th></th>\n",
       "      <th></th>\n",
       "      <th></th>\n",
       "      <th></th>\n",
       "      <th></th>\n",
       "      <th></th>\n",
       "      <th></th>\n",
       "      <th></th>\n",
       "      <th></th>\n",
       "      <th></th>\n",
       "      <th></th>\n",
       "      <th></th>\n",
       "      <th></th>\n",
       "      <th></th>\n",
       "      <th></th>\n",
       "      <th></th>\n",
       "      <th></th>\n",
       "      <th></th>\n",
       "      <th></th>\n",
       "      <th></th>\n",
       "      <th></th>\n",
       "    </tr>\n",
       "  </thead>\n",
       "  <tbody>\n",
       "    <tr>\n",
       "      <th>0</th>\n",
       "      <td>1.0</td>\n",
       "      <td>0.0</td>\n",
       "      <td>0</td>\n",
       "      <td>0</td>\n",
       "      <td>0</td>\n",
       "      <td>0</td>\n",
       "      <td>0</td>\n",
       "      <td>1</td>\n",
       "      <td>1</td>\n",
       "      <td>0</td>\n",
       "      <td>...</td>\n",
       "      <td>Below Poverty</td>\n",
       "      <td>Not Married</td>\n",
       "      <td>Own</td>\n",
       "      <td>Not in Labor Force</td>\n",
       "      <td>oxchjgsf</td>\n",
       "      <td>Non-MSA</td>\n",
       "      <td>0.0</td>\n",
       "      <td>0.0</td>\n",
       "      <td>0</td>\n",
       "      <td>0</td>\n",
       "    </tr>\n",
       "    <tr>\n",
       "      <th>1</th>\n",
       "      <td>3.0</td>\n",
       "      <td>2.0</td>\n",
       "      <td>0</td>\n",
       "      <td>1</td>\n",
       "      <td>0</td>\n",
       "      <td>1</td>\n",
       "      <td>0</td>\n",
       "      <td>1</td>\n",
       "      <td>1</td>\n",
       "      <td>0</td>\n",
       "      <td>...</td>\n",
       "      <td>Below Poverty</td>\n",
       "      <td>Not Married</td>\n",
       "      <td>Rent</td>\n",
       "      <td>Employed</td>\n",
       "      <td>bhuqouqj</td>\n",
       "      <td>MSA, Not Principle  City</td>\n",
       "      <td>0.0</td>\n",
       "      <td>0.0</td>\n",
       "      <td>0</td>\n",
       "      <td>1</td>\n",
       "    </tr>\n",
       "    <tr>\n",
       "      <th>2</th>\n",
       "      <td>1.0</td>\n",
       "      <td>1.0</td>\n",
       "      <td>0</td>\n",
       "      <td>1</td>\n",
       "      <td>0</td>\n",
       "      <td>0</td>\n",
       "      <td>0</td>\n",
       "      <td>0</td>\n",
       "      <td>0</td>\n",
       "      <td>0</td>\n",
       "      <td>...</td>\n",
       "      <td>&lt;= $75,000, Above Poverty</td>\n",
       "      <td>Not Married</td>\n",
       "      <td>Own</td>\n",
       "      <td>Employed</td>\n",
       "      <td>qufhixun</td>\n",
       "      <td>MSA, Not Principle  City</td>\n",
       "      <td>2.0</td>\n",
       "      <td>0.0</td>\n",
       "      <td>0</td>\n",
       "      <td>0</td>\n",
       "    </tr>\n",
       "    <tr>\n",
       "      <th>3</th>\n",
       "      <td>1.0</td>\n",
       "      <td>1.0</td>\n",
       "      <td>0</td>\n",
       "      <td>1</td>\n",
       "      <td>0</td>\n",
       "      <td>1</td>\n",
       "      <td>1</td>\n",
       "      <td>0</td>\n",
       "      <td>0</td>\n",
       "      <td>0</td>\n",
       "      <td>...</td>\n",
       "      <td>Below Poverty</td>\n",
       "      <td>Not Married</td>\n",
       "      <td>Rent</td>\n",
       "      <td>Not in Labor Force</td>\n",
       "      <td>lrircsnp</td>\n",
       "      <td>MSA, Principle City</td>\n",
       "      <td>0.0</td>\n",
       "      <td>0.0</td>\n",
       "      <td>0</td>\n",
       "      <td>1</td>\n",
       "    </tr>\n",
       "    <tr>\n",
       "      <th>4</th>\n",
       "      <td>2.0</td>\n",
       "      <td>1.0</td>\n",
       "      <td>0</td>\n",
       "      <td>1</td>\n",
       "      <td>0</td>\n",
       "      <td>1</td>\n",
       "      <td>1</td>\n",
       "      <td>0</td>\n",
       "      <td>1</td>\n",
       "      <td>0</td>\n",
       "      <td>...</td>\n",
       "      <td>&lt;= $75,000, Above Poverty</td>\n",
       "      <td>Married</td>\n",
       "      <td>Own</td>\n",
       "      <td>Employed</td>\n",
       "      <td>qufhixun</td>\n",
       "      <td>MSA, Not Principle  City</td>\n",
       "      <td>1.0</td>\n",
       "      <td>0.0</td>\n",
       "      <td>0</td>\n",
       "      <td>0</td>\n",
       "    </tr>\n",
       "  </tbody>\n",
       "</table>\n",
       "<p>5 rows × 34 columns</p>\n",
       "</div>"
      ],
      "text/plain": [
       "               h1n1_concern  h1n1_knowledge  behavioral_antiviral_meds  \\\n",
       "respondent_id                                                            \n",
       "0                       1.0             0.0                          0   \n",
       "1                       3.0             2.0                          0   \n",
       "2                       1.0             1.0                          0   \n",
       "3                       1.0             1.0                          0   \n",
       "4                       2.0             1.0                          0   \n",
       "\n",
       "               behavioral_avoidance  behavioral_face_mask  \\\n",
       "respondent_id                                               \n",
       "0                                 0                     0   \n",
       "1                                 1                     0   \n",
       "2                                 1                     0   \n",
       "3                                 1                     0   \n",
       "4                                 1                     0   \n",
       "\n",
       "               behavioral_wash_hands  behavioral_large_gatherings  \\\n",
       "respondent_id                                                       \n",
       "0                                  0                            0   \n",
       "1                                  1                            0   \n",
       "2                                  0                            0   \n",
       "3                                  1                            1   \n",
       "4                                  1                            1   \n",
       "\n",
       "               behavioral_outside_home  behavioral_touch_face  \\\n",
       "respondent_id                                                   \n",
       "0                                    1                      1   \n",
       "1                                    1                      1   \n",
       "2                                    0                      0   \n",
       "3                                    0                      0   \n",
       "4                                    0                      1   \n",
       "\n",
       "               doctor_recc_h1n1  ...             income_poverty  \\\n",
       "respondent_id                    ...                              \n",
       "0                             0  ...              Below Poverty   \n",
       "1                             0  ...              Below Poverty   \n",
       "2                             0  ...  <= $75,000, Above Poverty   \n",
       "3                             0  ...              Below Poverty   \n",
       "4                             0  ...  <= $75,000, Above Poverty   \n",
       "\n",
       "               marital_status  rent_or_own   employment_status  \\\n",
       "respondent_id                                                    \n",
       "0                 Not Married          Own  Not in Labor Force   \n",
       "1                 Not Married         Rent            Employed   \n",
       "2                 Not Married          Own            Employed   \n",
       "3                 Not Married         Rent  Not in Labor Force   \n",
       "4                     Married          Own            Employed   \n",
       "\n",
       "               hhs_geo_region                census_msa  household_adults  \\\n",
       "respondent_id                                                               \n",
       "0                    oxchjgsf                   Non-MSA               0.0   \n",
       "1                    bhuqouqj  MSA, Not Principle  City               0.0   \n",
       "2                    qufhixun  MSA, Not Principle  City               2.0   \n",
       "3                    lrircsnp       MSA, Principle City               0.0   \n",
       "4                    qufhixun  MSA, Not Principle  City               1.0   \n",
       "\n",
       "               household_children  h1n1_vaccine  seasonal_vaccine  \n",
       "respondent_id                                                      \n",
       "0                             0.0             0                 0  \n",
       "1                             0.0             0                 1  \n",
       "2                             0.0             0                 0  \n",
       "3                             0.0             0                 1  \n",
       "4                             0.0             0                 0  \n",
       "\n",
       "[5 rows x 34 columns]"
      ]
     },
     "metadata": {},
     "output_type": "display_data"
    },
    {
     "name": "stdout",
     "output_type": "stream",
     "text": [
      "Dataset strcuture: (25098, 34)\n"
     ]
    }
   ],
   "source": [
    "# Load data\n",
    "vac = pd.read_csv('data/fixed_H1N1_Flu_Vaccines.csv', index_col='respondent_id', delimiter=',')\n",
    "display(vac.head())\n",
    "print(f'Dataset strcuture: {vac.shape}')"
   ]
  },
  {
   "cell_type": "code",
   "execution_count": null,
   "metadata": {},
   "outputs": [],
   "source": [
    "# group variables for imputation\n",
    "h1n1_concern = ['h1n1_concern', 'h1n1_knowledge'] # categorical\n",
    "behaviour = ['behavioral_antiviral_meds', 'behavioral_avoidance', 'behavioral_face_mask', \n",
    "             'behavioral_wash_hands', 'behavioral_large_gatherings', 'behavioral_outside_home', \n",
    "             'behavioral_touch_face'] #binary\n",
    "recomendation = ['doctor_recc_h1n1', 'doctor_recc_seasonal'] #binary\n",
    "health_condition = ['chronic_med_condition', 'child_under_6_months', 'health_worker'] #, 'health_insurance'] #Binary\n",
    "opinion = ['opinion_h1n1_vacc_effective', 'opinion_h1n1_risk',\n",
    "           'opinion_h1n1_sick_from_vacc', 'opinion_seas_vacc_effective',\n",
    "           'opinion_seas_risk', 'opinion_seas_sick_from_vacc'] # categorical\n",
    "demographics = ['age_group','education', 'race', 'sex', 'income_poverty',\n",
    "                'marital_status', 'rent_or_own', 'employment_status'] #, 'employment_industry', 'employment_occupation'] # categorical\n",
    "household_info = ['hhs_geo_region', 'census_msa', 'household_adults',\n",
    "                  'household_children'] # categorical\n",
    "predictors = ['h1n1_vaccine', 'seasonal_vaccine'] # predictor variables\n",
    "\n",
    "# variable to impute\n",
    "cat_variable = h1n1_concern + opinion + demographics + household_info\n",
    "bin_variable = behaviour + recomendation + health_condition"
   ]
  },
  {
   "cell_type": "markdown",
   "metadata": {},
   "source": [
    "## **1. Data preprocessing**"
   ]
  },
  {
   "cell_type": "code",
   "execution_count": null,
   "metadata": {},
   "outputs": [],
   "source": [
    "# Prepare datasets\n",
    "labels = vac[predictors] # (26707, 2)\n",
    "features = vac.drop(predictors, axis=1) # (26707, 35)"
   ]
  },
  {
   "cell_type": "code",
   "execution_count": 7,
   "metadata": {},
   "outputs": [],
   "source": [
    "## Encoding the objects\n",
    "enc = LabelEncoder() \n",
    "for col in features[cat_variable]:\n",
    "\tfeatures[col] = enc.fit_transform(features[col])\n"
   ]
  },
  {
   "cell_type": "markdown",
   "metadata": {
    "id": "WLoyXNkj1vbh"
   },
   "source": [
    "# FEATURE SCALING"
   ]
  },
  {
   "cell_type": "markdown",
   "metadata": {
    "id": "gNsDoROL1vbh"
   },
   "source": [
    "## Using Min Max scaler"
   ]
  },
  {
   "cell_type": "code",
   "execution_count": null,
   "metadata": {
    "execution": {
     "iopub.execute_input": "2023-05-19T05:53:56.656913Z",
     "iopub.status.busy": "2023-05-19T05:53:56.656669Z",
     "iopub.status.idle": "2023-05-19T05:53:56.679504Z",
     "shell.execute_reply": "2023-05-19T05:53:56.678144Z",
     "shell.execute_reply.started": "2023-05-19T05:53:56.656882Z"
    },
    "id": "RroTrCsL1vbh",
    "trusted": true
   },
   "outputs": [],
   "source": [
    "scaler = MinMaxScaler()\n",
    "features = scaler.fit_transform(features)"
   ]
  },
  {
   "cell_type": "markdown",
   "metadata": {
    "id": "ZyGOhppy1vbh"
   },
   "source": [
    "# FEATURE SELECTION"
   ]
  },
  {
   "cell_type": "markdown",
   "metadata": {
    "id": "z4LmpbPH1vbh"
   },
   "source": [
    "## Independent and target variables"
   ]
  },
  {
   "cell_type": "code",
   "execution_count": null,
   "metadata": {
    "execution": {
     "iopub.execute_input": "2023-05-19T05:53:56.692472Z",
     "iopub.status.busy": "2023-05-19T05:53:56.692046Z",
     "iopub.status.idle": "2023-05-19T05:53:56.705437Z",
     "shell.execute_reply": "2023-05-19T05:53:56.704627Z",
     "shell.execute_reply.started": "2023-05-19T05:53:56.692418Z"
    },
    "id": "IWzs1sk71vbh",
    "trusted": true
   },
   "outputs": [],
   "source": [
    "X = features\n",
    "y = labels"
   ]
  },
  {
   "cell_type": "markdown",
   "metadata": {
    "id": "_JqAEi5w1vbh"
   },
   "source": [
    "## Applying SelectKBest class"
   ]
  },
  {
   "cell_type": "code",
   "execution_count": null,
   "metadata": {
    "execution": {
     "iopub.execute_input": "2023-05-19T05:53:56.707562Z",
     "iopub.status.busy": "2023-05-19T05:53:56.706862Z",
     "iopub.status.idle": "2023-05-19T05:53:56.719667Z",
     "shell.execute_reply": "2023-05-19T05:53:56.718274Z",
     "shell.execute_reply.started": "2023-05-19T05:53:56.707506Z"
    },
    "id": "VEAJmcOO1vbj",
    "trusted": true
   },
   "outputs": [],
   "source": [
    "bestfeatures = SelectKBest(score_func=chi2, k=30)"
   ]
  },
  {
   "cell_type": "code",
   "execution_count": null,
   "metadata": {
    "execution": {
     "iopub.execute_input": "2023-05-19T05:53:56.722415Z",
     "iopub.status.busy": "2023-05-19T05:53:56.72197Z",
     "iopub.status.idle": "2023-05-19T05:53:56.755511Z",
     "shell.execute_reply": "2023-05-19T05:53:56.754196Z",
     "shell.execute_reply.started": "2023-05-19T05:53:56.722335Z"
    },
    "id": "jsYzPBNs1vbj",
    "trusted": true
   },
   "outputs": [],
   "source": [
    "fit = bestfeatures.fit(X,y)"
   ]
  },
  {
   "cell_type": "code",
   "execution_count": null,
   "metadata": {
    "execution": {
     "iopub.execute_input": "2023-05-19T05:53:56.758727Z",
     "iopub.status.busy": "2023-05-19T05:53:56.75797Z",
     "iopub.status.idle": "2023-05-19T05:53:56.784081Z",
     "shell.execute_reply": "2023-05-19T05:53:56.782909Z",
     "shell.execute_reply.started": "2023-05-19T05:53:56.758655Z"
    },
    "id": "NzA7SFkT1vbj",
    "trusted": true
   },
   "outputs": [],
   "source": [
    "dfscores = pd.DataFrame(fit.scores_)\n",
    "dfcolumns = pd.DataFrame(X.columns)\n",
    "\n",
    "#concat two dataframes for better visualization\n",
    "\n",
    "featureScores = pd.concat([dfcolumns,dfscores],axis=1)\n",
    "featureScores.columns = ['Specs','Score']\n",
    "\n",
    "print(featureScores.nlargest(25,'Score'))"
   ]
  },
  {
   "cell_type": "code",
   "execution_count": null,
   "metadata": {
    "execution": {
     "iopub.execute_input": "2023-05-19T05:53:56.786961Z",
     "iopub.status.busy": "2023-05-19T05:53:56.786242Z",
     "iopub.status.idle": "2023-05-19T05:53:56.799724Z",
     "shell.execute_reply": "2023-05-19T05:53:56.798106Z",
     "shell.execute_reply.started": "2023-05-19T05:53:56.786894Z"
    },
    "id": "KY_hYGP71vbk",
    "trusted": true
   },
   "outputs": [],
   "source": [
    "features_kbest = features.iloc[:,[9,10,19,16,13,11,21,18,15,34,0,33,32,8,12,1,24,5,26,17,6,3,7,2,4]]"
   ]
  },
  {
   "cell_type": "markdown",
   "metadata": {
    "id": "zXbXqqBT1vbk"
   },
   "source": [
    "## Feature importance using ExtraTrees Classifier"
   ]
  },
  {
   "cell_type": "code",
   "execution_count": null,
   "metadata": {
    "execution": {
     "iopub.execute_input": "2023-05-19T05:53:56.818665Z",
     "iopub.status.busy": "2023-05-19T05:53:56.817877Z",
     "iopub.status.idle": "2023-05-19T05:54:04.96075Z",
     "shell.execute_reply": "2023-05-19T05:54:04.960031Z",
     "shell.execute_reply.started": "2023-05-19T05:53:56.818601Z"
    },
    "id": "DUlcem_W1vbk",
    "trusted": true
   },
   "outputs": [],
   "source": [
    "model = ExtraTreesClassifier()\n",
    "model.fit(X,y)\n",
    "print(model.feature_importances_)\n",
    "plt.figure(figsize=(10,10))\n",
    "feat_importances = pd.Series(model.feature_importances_, index=X.columns)\n",
    "feat_importances.nlargest(25).plot(kind='barh')\n",
    "plt.show()"
   ]
  },
  {
   "cell_type": "code",
   "execution_count": null,
   "metadata": {
    "execution": {
     "iopub.execute_input": "2023-05-19T05:54:04.962525Z",
     "iopub.status.busy": "2023-05-19T05:54:04.962065Z",
     "iopub.status.idle": "2023-05-19T05:54:04.972586Z",
     "shell.execute_reply": "2023-05-19T05:54:04.971822Z",
     "shell.execute_reply.started": "2023-05-19T05:54:04.962473Z"
    },
    "id": "IadRH-gX1vbk",
    "trusted": true
   },
   "outputs": [],
   "source": [
    "features_tree = features.loc[:,['opinion_seas_risk','doctor_recc_seasonal','opinion_seas_vacc_effective',\n",
    "                                 'doctor_recc_h1n1','age_group','opinion_h1n1_risk','hhs_geo_region',\n",
    "                                 'opinion_h1n1_vacc_effective','h1n1_concern','opinion_seas_sick_from_vacc',\n",
    "                                 'opinion_h1n1_sick_from_vacc','census_msa','education','income_poverty',\n",
    "                                 'h1n1_knowledge','household_adults','employment_occupation',\n",
    "                                 'employment_industry','household_children','sex','race','marital_status',\n",
    "                                 'rent_or_own','behavioral_outside_home','behavioral_large_gatherings']]"
   ]
  },
  {
   "cell_type": "markdown",
   "metadata": {
    "id": "ctChhDOH1vbk"
   },
   "source": [
    "## Correlation Matrix using Heatmap"
   ]
  },
  {
   "cell_type": "code",
   "execution_count": null,
   "metadata": {
    "execution": {
     "iopub.execute_input": "2023-05-19T05:54:04.975269Z",
     "iopub.status.busy": "2023-05-19T05:54:04.973891Z",
     "iopub.status.idle": "2023-05-19T05:54:05.015683Z",
     "shell.execute_reply": "2023-05-19T05:54:05.014963Z",
     "shell.execute_reply.started": "2023-05-19T05:54:04.975184Z"
    },
    "id": "sfNlgQpM1vbk",
    "trusted": true
   },
   "outputs": [],
   "source": [
    "features.corrwith(labels.h1n1_vaccine)"
   ]
  },
  {
   "cell_type": "code",
   "execution_count": null,
   "metadata": {
    "execution": {
     "iopub.execute_input": "2023-05-19T05:54:05.017879Z",
     "iopub.status.busy": "2023-05-19T05:54:05.016946Z",
     "iopub.status.idle": "2023-05-19T05:54:05.055271Z",
     "shell.execute_reply": "2023-05-19T05:54:05.054256Z",
     "shell.execute_reply.started": "2023-05-19T05:54:05.017838Z"
    },
    "id": "dytfhFuf1vbk",
    "trusted": true
   },
   "outputs": [],
   "source": [
    "features.corrwith(labels.seasonal_vaccine)"
   ]
  },
  {
   "cell_type": "code",
   "execution_count": null,
   "metadata": {
    "execution": {
     "iopub.execute_input": "2023-05-19T05:54:05.057221Z",
     "iopub.status.busy": "2023-05-19T05:54:05.056947Z",
     "iopub.status.idle": "2023-05-19T05:54:13.773784Z",
     "shell.execute_reply": "2023-05-19T05:54:13.772548Z",
     "shell.execute_reply.started": "2023-05-19T05:54:05.057187Z"
    },
    "id": "V-IvdDwf1vbk",
    "trusted": true
   },
   "outputs": [],
   "source": [
    "#get correlations of each features in dataset\n",
    "corrmat = features.corr()\n",
    "top_corr_features = corrmat.index\n",
    "plt.figure(figsize=(20,20))\n",
    "#plot heat map\n",
    "g=sns.heatmap(features[top_corr_features].corr(),annot=True,cmap=\"Blues\")"
   ]
  },
  {
   "cell_type": "code",
   "execution_count": null,
   "metadata": {
    "execution": {
     "iopub.execute_input": "2023-05-19T05:54:13.775983Z",
     "iopub.status.busy": "2023-05-19T05:54:13.775557Z",
     "iopub.status.idle": "2023-05-19T05:54:13.784216Z",
     "shell.execute_reply": "2023-05-19T05:54:13.783181Z",
     "shell.execute_reply.started": "2023-05-19T05:54:13.775916Z"
    },
    "id": "F8Dsx8q71vbk",
    "trusted": true
   },
   "outputs": [],
   "source": [
    "features.drop(['opinion_seas_sick_from_vacc','hhs_geo_region','census_msa',\n",
    "               'household_adults','household_children','behavioral_antiviral_meds',\n",
    "               'education'], axis = 1, inplace = True)"
   ]
  },
  {
   "cell_type": "markdown",
   "metadata": {
    "id": "IMssE0v51vbk"
   },
   "source": [
    "# MODEL"
   ]
  },
  {
   "cell_type": "markdown",
   "metadata": {
    "id": "GybbEGu81vbk"
   },
   "source": [
    "## Defining independent and dependent variables"
   ]
  },
  {
   "cell_type": "code",
   "execution_count": null,
   "metadata": {
    "execution": {
     "iopub.execute_input": "2023-05-19T05:54:13.786115Z",
     "iopub.status.busy": "2023-05-19T05:54:13.785857Z",
     "iopub.status.idle": "2023-05-19T05:54:13.799521Z",
     "shell.execute_reply": "2023-05-19T05:54:13.798137Z",
     "shell.execute_reply.started": "2023-05-19T05:54:13.786084Z"
    },
    "id": "5KrYfg9i1vbk",
    "trusted": true
   },
   "outputs": [],
   "source": [
    "X = features\n",
    "y = labels"
   ]
  },
  {
   "cell_type": "code",
   "execution_count": null,
   "metadata": {
    "execution": {
     "iopub.execute_input": "2023-05-19T05:54:13.801394Z",
     "iopub.status.busy": "2023-05-19T05:54:13.801126Z",
     "iopub.status.idle": "2023-05-19T05:54:13.8549Z",
     "shell.execute_reply": "2023-05-19T05:54:13.853745Z",
     "shell.execute_reply.started": "2023-05-19T05:54:13.801362Z"
    },
    "id": "x2wyGpY91vbk",
    "trusted": true
   },
   "outputs": [],
   "source": [
    "X"
   ]
  },
  {
   "cell_type": "code",
   "execution_count": null,
   "metadata": {
    "execution": {
     "iopub.execute_input": "2023-05-19T05:54:13.857174Z",
     "iopub.status.busy": "2023-05-19T05:54:13.856905Z",
     "iopub.status.idle": "2023-05-19T05:54:13.871094Z",
     "shell.execute_reply": "2023-05-19T05:54:13.869745Z",
     "shell.execute_reply.started": "2023-05-19T05:54:13.857141Z"
    },
    "id": "oQ4DF0T31vbk",
    "trusted": true
   },
   "outputs": [],
   "source": [
    "y"
   ]
  },
  {
   "cell_type": "markdown",
   "metadata": {
    "id": "rW3og-Xi1vbk"
   },
   "source": [
    "## Splitting the data into training and testing data"
   ]
  },
  {
   "cell_type": "code",
   "execution_count": null,
   "metadata": {
    "execution": {
     "iopub.execute_input": "2023-05-19T05:54:13.872612Z",
     "iopub.status.busy": "2023-05-19T05:54:13.872376Z",
     "iopub.status.idle": "2023-05-19T05:54:13.897128Z",
     "shell.execute_reply": "2023-05-19T05:54:13.896024Z",
     "shell.execute_reply.started": "2023-05-19T05:54:13.872583Z"
    },
    "id": "mxIJBlW21vbk",
    "trusted": true
   },
   "outputs": [],
   "source": [
    "x_train, x_test, y_train, y_test = train_test_split(X,y,test_size=0.3, random_state=23)"
   ]
  },
  {
   "cell_type": "markdown",
   "metadata": {
    "id": "nvBBrOqj1vbk"
   },
   "source": [
    "## Using Binary Relevance - Naive Bayes"
   ]
  },
  {
   "cell_type": "code",
   "execution_count": null,
   "metadata": {
    "execution": {
     "iopub.execute_input": "2023-05-19T05:54:13.900413Z",
     "iopub.status.busy": "2023-05-19T05:54:13.89919Z",
     "iopub.status.idle": "2023-05-19T05:54:13.997255Z",
     "shell.execute_reply": "2023-05-19T05:54:13.996052Z",
     "shell.execute_reply.started": "2023-05-19T05:54:13.900359Z"
    },
    "id": "DkIdhOwj1vbk",
    "trusted": true
   },
   "outputs": [],
   "source": [
    "# Gaussian Naive Bayes\n",
    "\n",
    "# Initializing\n",
    "\n",
    "model_BR_GNB = BinaryRelevance(GaussianNB())\n",
    "\n",
    "# Training\n",
    "\n",
    "model_BR_GNB.fit(x_train,y_train)\n",
    "\n",
    "# Predicting\n",
    "\n",
    "y_pred_BR_GNB = model_BR_GNB.predict(x_test)\n",
    "\n",
    "# Testing\n",
    "\n",
    "BR_GNB = accuracy_score(y_test,y_pred_BR_GNB)\n",
    "BR_GNB"
   ]
  },
  {
   "cell_type": "markdown",
   "metadata": {
    "id": "-2_d75TQ1vbl"
   },
   "source": [
    "## Using Binary Relevance - Decision Tree"
   ]
  },
  {
   "cell_type": "code",
   "execution_count": null,
   "metadata": {
    "execution": {
     "iopub.execute_input": "2023-05-19T05:54:13.999581Z",
     "iopub.status.busy": "2023-05-19T05:54:13.999263Z",
     "iopub.status.idle": "2023-05-19T05:54:14.395623Z",
     "shell.execute_reply": "2023-05-19T05:54:14.394663Z",
     "shell.execute_reply.started": "2023-05-19T05:54:13.999537Z"
    },
    "id": "sFqEcTQG1vbl",
    "trusted": true
   },
   "outputs": [],
   "source": [
    "# Initializing\n",
    "\n",
    "model_BR_DT = BinaryRelevance(DecisionTreeClassifier())\n",
    "\n",
    "# Training\n",
    "\n",
    "model_BR_DT.fit(x_train,y_train)\n",
    "\n",
    "# Predicting\n",
    "\n",
    "y_pred_BR_DT = model_BR_DT.predict(x_test)\n",
    "\n",
    "# Testing\n",
    "\n",
    "BR_DT = accuracy_score(y_test,y_pred_BR_DT)\n",
    "BR_DT"
   ]
  },
  {
   "cell_type": "markdown",
   "metadata": {
    "id": "QeBAco9y1vbl"
   },
   "source": [
    "## Using Binary Relevance - Logistic Regression"
   ]
  },
  {
   "cell_type": "code",
   "execution_count": null,
   "metadata": {
    "execution": {
     "iopub.execute_input": "2023-05-19T05:54:14.397665Z",
     "iopub.status.busy": "2023-05-19T05:54:14.397104Z",
     "iopub.status.idle": "2023-05-19T05:54:15.047571Z",
     "shell.execute_reply": "2023-05-19T05:54:15.046362Z",
     "shell.execute_reply.started": "2023-05-19T05:54:14.397606Z"
    },
    "id": "Yy44FUFk1vbl",
    "trusted": true
   },
   "outputs": [],
   "source": [
    "# Initializing\n",
    "\n",
    "model_BR_LR = BinaryRelevance(LogisticRegression())\n",
    "\n",
    "# Training\n",
    "\n",
    "model_BR_LR.fit(x_train,y_train)\n",
    "\n",
    "# Predicting\n",
    "\n",
    "y_pred_BR_LR = model_BR_LR.predict(x_test)\n",
    "\n",
    "# Testing\n",
    "\n",
    "BR_LR = accuracy_score(y_test,y_pred_BR_LR)\n",
    "BR_LR"
   ]
  },
  {
   "cell_type": "markdown",
   "metadata": {
    "id": "MvB-cd6n1vbl"
   },
   "source": [
    "## Using Classifier Chains - Naive Bayes"
   ]
  },
  {
   "cell_type": "code",
   "execution_count": null,
   "metadata": {
    "execution": {
     "iopub.execute_input": "2023-05-19T05:54:15.050974Z",
     "iopub.status.busy": "2023-05-19T05:54:15.0501Z",
     "iopub.status.idle": "2023-05-19T05:54:15.190199Z",
     "shell.execute_reply": "2023-05-19T05:54:15.18921Z",
     "shell.execute_reply.started": "2023-05-19T05:54:15.050907Z"
    },
    "id": "Bl12R-AU1vbl",
    "trusted": true
   },
   "outputs": [],
   "source": [
    "# Gaussian Naive Bayes\n",
    "\n",
    "# Initializing\n",
    "\n",
    "model_CC_GNB = ClassifierChain(GaussianNB())\n",
    "\n",
    "# Training\n",
    "\n",
    "model_CC_GNB.fit(x_train,y_train)\n",
    "\n",
    "# Predicting\n",
    "\n",
    "y_pred_CC_GNB = model_CC_GNB.predict(x_test)\n",
    "\n",
    "# Testing\n",
    "\n",
    "CC_GNB = accuracy_score(y_test,y_pred_CC_GNB)\n",
    "CC_GNB"
   ]
  },
  {
   "cell_type": "markdown",
   "metadata": {
    "id": "l5I0wTw51vbl"
   },
   "source": [
    "## Using Classifier Chains - Decision Tree"
   ]
  },
  {
   "cell_type": "code",
   "execution_count": null,
   "metadata": {
    "execution": {
     "iopub.execute_input": "2023-05-19T05:54:15.191851Z",
     "iopub.status.busy": "2023-05-19T05:54:15.191544Z",
     "iopub.status.idle": "2023-05-19T05:54:15.587008Z",
     "shell.execute_reply": "2023-05-19T05:54:15.585943Z",
     "shell.execute_reply.started": "2023-05-19T05:54:15.191808Z"
    },
    "id": "SkxeDFDy1vbl",
    "trusted": true
   },
   "outputs": [],
   "source": [
    "# Initializing\n",
    "\n",
    "model_CC_DT = ClassifierChain(DecisionTreeClassifier())\n",
    "\n",
    "# Training\n",
    "\n",
    "model_CC_DT.fit(x_train,y_train)\n",
    "\n",
    "# Predicting\n",
    "\n",
    "y_pred_CC_DT = model_CC_DT.predict(x_test)\n",
    "\n",
    "# Testing\n",
    "\n",
    "CC_DT = accuracy_score(y_test,y_pred_CC_DT)\n",
    "CC_DT"
   ]
  },
  {
   "cell_type": "markdown",
   "metadata": {
    "id": "NHYiA0Yj1vbl"
   },
   "source": [
    "## Using Classifier Chains - Logistic Regression"
   ]
  },
  {
   "cell_type": "code",
   "execution_count": null,
   "metadata": {
    "execution": {
     "iopub.execute_input": "2023-05-19T05:54:15.588872Z",
     "iopub.status.busy": "2023-05-19T05:54:15.588478Z",
     "iopub.status.idle": "2023-05-19T05:54:16.262679Z",
     "shell.execute_reply": "2023-05-19T05:54:16.261419Z",
     "shell.execute_reply.started": "2023-05-19T05:54:15.588827Z"
    },
    "id": "p9yXbX5L1vbl",
    "trusted": true
   },
   "outputs": [],
   "source": [
    "# Initializing\n",
    "\n",
    "model_CC_LR = ClassifierChain(LogisticRegression())\n",
    "\n",
    "# Training\n",
    "\n",
    "model_CC_LR.fit(x_train,y_train)\n",
    "\n",
    "# Predicting\n",
    "\n",
    "y_pred_CC_LR = model_CC_LR.predict(x_test)\n",
    "\n",
    "# Testing\n",
    "\n",
    "CC_LR = accuracy_score(y_test,y_pred_CC_LR)\n",
    "CC_LR"
   ]
  },
  {
   "cell_type": "markdown",
   "metadata": {
    "id": "aEeYxzCy1vbl"
   },
   "source": [
    "## Using Label Powerset - Naive Bayes"
   ]
  },
  {
   "cell_type": "code",
   "execution_count": null,
   "metadata": {
    "execution": {
     "iopub.execute_input": "2023-05-19T05:54:16.265764Z",
     "iopub.status.busy": "2023-05-19T05:54:16.264801Z",
     "iopub.status.idle": "2023-05-19T05:54:17.475577Z",
     "shell.execute_reply": "2023-05-19T05:54:17.474619Z",
     "shell.execute_reply.started": "2023-05-19T05:54:16.265696Z"
    },
    "id": "tgk46UGD1vbl",
    "trusted": true
   },
   "outputs": [],
   "source": [
    "# Gaussian Naive Bayes\n",
    "\n",
    "# Initializing\n",
    "\n",
    "model_LP_GNB = LabelPowerset(GaussianNB())\n",
    "\n",
    "# Training\n",
    "\n",
    "model_LP_GNB.fit(x_train,y_train)\n",
    "\n",
    "# Predicting\n",
    "\n",
    "y_pred_LP_GNB = model_LP_GNB.predict(x_test)\n",
    "\n",
    "# Testing\n",
    "\n",
    "LP_GNB = accuracy_score(y_test,y_pred_LP_GNB)\n",
    "LP_GNB"
   ]
  },
  {
   "cell_type": "markdown",
   "metadata": {
    "id": "uLkmhby01vbl"
   },
   "source": [
    "## Using Label Powerset - Decision Tree"
   ]
  },
  {
   "cell_type": "code",
   "execution_count": null,
   "metadata": {
    "execution": {
     "iopub.execute_input": "2023-05-19T05:54:17.478254Z",
     "iopub.status.busy": "2023-05-19T05:54:17.477097Z",
     "iopub.status.idle": "2023-05-19T05:54:18.489448Z",
     "shell.execute_reply": "2023-05-19T05:54:18.488686Z",
     "shell.execute_reply.started": "2023-05-19T05:54:17.478192Z"
    },
    "id": "mpcO8px91vbl",
    "trusted": true
   },
   "outputs": [],
   "source": [
    "# Initializing\n",
    "\n",
    "model_LP_DT = LabelPowerset(DecisionTreeClassifier())\n",
    "\n",
    "# Training\n",
    "\n",
    "model_LP_DT.fit(x_train,y_train)\n",
    "\n",
    "# Predicting\n",
    "\n",
    "y_pred_LP_DT = model_LP_DT.predict(x_test)\n",
    "\n",
    "# Testing\n",
    "\n",
    "LP_DT = accuracy_score(y_test,y_pred_LP_DT)\n",
    "LP_DT"
   ]
  },
  {
   "cell_type": "markdown",
   "metadata": {
    "id": "aVeVhiwD1vbl"
   },
   "source": [
    "## Random Forest"
   ]
  },
  {
   "cell_type": "code",
   "execution_count": null,
   "metadata": {
    "execution": {
     "iopub.execute_input": "2023-05-19T05:54:18.491541Z",
     "iopub.status.busy": "2023-05-19T05:54:18.491012Z",
     "iopub.status.idle": "2023-05-19T05:54:23.004323Z",
     "shell.execute_reply": "2023-05-19T05:54:23.002966Z",
     "shell.execute_reply.started": "2023-05-19T05:54:18.491501Z"
    },
    "id": "8Ozr7x-71vbl",
    "trusted": true
   },
   "outputs": [],
   "source": [
    "# Initializing\n",
    "\n",
    "model_RF = RandomForestClassifier()\n",
    "\n",
    "# Training\n",
    "\n",
    "model_RF.fit(x_train,y_train)\n",
    "\n",
    "# Predicting\n",
    "\n",
    "y_pred_RF = model_RF.predict(x_test)\n",
    "\n",
    "# Testing\n",
    "RF = accuracy_score(y_test,y_pred_RF)\n",
    "RF"
   ]
  },
  {
   "cell_type": "markdown",
   "metadata": {
    "id": "0ojjHbKj1vbl"
   },
   "source": [
    "# MODEL EVALUATION"
   ]
  },
  {
   "cell_type": "markdown",
   "metadata": {
    "id": "7BJs3xjq1vbl"
   },
   "source": [
    "## Accuracy score comparison chart"
   ]
  },
  {
   "cell_type": "code",
   "execution_count": null,
   "metadata": {
    "execution": {
     "iopub.execute_input": "2023-05-19T05:54:23.006597Z",
     "iopub.status.busy": "2023-05-19T05:54:23.006264Z",
     "iopub.status.idle": "2023-05-19T05:54:23.012265Z",
     "shell.execute_reply": "2023-05-19T05:54:23.011376Z",
     "shell.execute_reply.started": "2023-05-19T05:54:23.006561Z"
    },
    "id": "etyUN-Df1vbl",
    "trusted": true
   },
   "outputs": [],
   "source": [
    "Accuracy_Score = [BR_GNB,BR_DT,BR_LR,CC_GNB,CC_DT,CC_LR,LP_GNB,LP_DT,RF]\n",
    "Models = ['BR Naive Bayes', 'BR Decision Tree' , 'BR Logistic Regression', 'CC Naive Bayes',\n",
    "          'CC Decision Tree', 'CC Logistic Regression', 'LP Naive Bayes', 'LP Decision Tree','Random Forest']"
   ]
  },
  {
   "cell_type": "code",
   "execution_count": null,
   "metadata": {
    "execution": {
     "iopub.execute_input": "2023-05-19T05:54:23.014115Z",
     "iopub.status.busy": "2023-05-19T05:54:23.013704Z",
     "iopub.status.idle": "2023-05-19T05:54:23.274631Z",
     "shell.execute_reply": "2023-05-19T05:54:23.273435Z",
     "shell.execute_reply.started": "2023-05-19T05:54:23.01395Z"
    },
    "id": "wUqWdkHO1vbm",
    "trusted": true
   },
   "outputs": [],
   "source": [
    "sns.barplot(Accuracy_Score, Models, color=\"m\")\n",
    "plt.xlabel('Accuracy Score')\n",
    "plt.title('Accuracy Score')\n",
    "plt.show()"
   ]
  },
  {
   "cell_type": "markdown",
   "metadata": {
    "id": "tVne996w1vbm"
   },
   "source": [
    "#### RANDOM FOREST HAS THE HIGHEST ACCURACY SCORE"
   ]
  }
 ],
 "metadata": {
  "colab": {
   "include_colab_link": true,
   "provenance": []
  },
  "kaggle": {
   "accelerator": "none",
   "dataSources": [
    {
     "datasetId": 955872,
     "sourceId": 1689913,
     "sourceType": "datasetVersion"
    }
   ],
   "dockerImageVersionId": 30698,
   "isGpuEnabled": false,
   "isInternetEnabled": true,
   "language": "python",
   "sourceType": "notebook"
  },
  "kernelspec": {
   "display_name": "h1n1-flu",
   "language": "python",
   "name": "python3"
  },
  "language_info": {
   "codemirror_mode": {
    "name": "ipython",
    "version": 3
   },
   "file_extension": ".py",
   "mimetype": "text/x-python",
   "name": "python",
   "nbconvert_exporter": "python",
   "pygments_lexer": "ipython3",
   "version": "3.13.0"
  }
 },
 "nbformat": 4,
 "nbformat_minor": 0
}
